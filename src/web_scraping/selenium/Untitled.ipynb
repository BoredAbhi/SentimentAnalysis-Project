{
 "cells": [
  {
   "cell_type": "code",
   "execution_count": 1,
   "metadata": {},
   "outputs": [],
   "source": [
    "import json\n",
    "import time"
   ]
  },
  {
   "cell_type": "code",
   "execution_count": 2,
   "metadata": {},
   "outputs": [],
   "source": [
    "from bs4 import BeautifulSoup\n",
    "import requests\n",
    "import pandas as pd"
   ]
  },
  {
   "cell_type": "code",
   "execution_count": 3,
   "metadata": {},
   "outputs": [],
   "source": [
    "from selenium import webdriver\n",
    "from selenium.common.exceptions import NoSuchElementException\n",
    "from selenium.common.exceptions import TimeoutException\n",
    "from selenium.webdriver.support.ui import WebDriverWait\n",
    "from selenium.webdriver.support import expected_conditions as EC\n",
    "from selenium.webdriver.common.by import By\n",
    "from selenium.webdriver.chrome.options import Options"
   ]
  },
  {
   "cell_type": "code",
   "execution_count": 4,
   "metadata": {},
   "outputs": [],
   "source": [
    "from tqdm import tqdm_notebook"
   ]
  },
  {
   "cell_type": "code",
   "execution_count": 5,
   "metadata": {},
   "outputs": [],
   "source": [
    "base_url = \"https://trustpilot.com\""
   ]
  },
  {
   "cell_type": "code",
   "execution_count": 6,
   "metadata": {},
   "outputs": [],
   "source": [
    "def get_soup(url):\n",
    "    return BeautifulSoup(requests.get(url).content, 'lxml')"
   ]
  },
  {
   "cell_type": "code",
   "execution_count": 22,
   "metadata": {},
   "outputs": [
    {
     "data": {
      "text/plain": [
       "' data will have all sub-catogaries in JSON format 👍'"
      ]
     },
     "execution_count": 22,
     "metadata": {},
     "output_type": "execute_result"
    }
   ],
   "source": [
    "data = {}\n",
    "\n",
    "soup = get_soup(base_url + '/categories')\n",
    "for category in soup.findAll('div', {'class' : 'subCategory___BRUDy'}):\n",
    "    data[category['id']] = {}\n",
    "    for sub_category in category.findAll('div', {'class' : 'subCategoryItem___3ksKz'}):\n",
    "        '''Note : .find() will search and return the first occurence but .findAll() will return all occurences'''\n",
    "        name = sub_category.find('span').text\n",
    "        link = sub_category.find('a', {'class' : 'internal___1jK0Z typography___lxzyt weight-inherit___229vl navigation___2n5P8'})['href']\n",
    "        data[category['id']][name] = link\n",
    "        \n",
    "''' data will have all sub-catogaries in JSON format 👍'''"
   ]
  },
  {
   "cell_type": "code",
   "execution_count": 67,
   "metadata": {},
   "outputs": [],
   "source": [
    "def fetch_company_urls_form_page():\n",
    "    a_list = driver.find_elements_by_xpath('//a[@class=\"internal___1jK0Z wrapper___26yB4\"]')\n",
    "    urls=[]\n",
    "    for a in a_list:\n",
    "        link = str(a.get_attribute('href'))\n",
    "        if link.startswith('https://www.trustpilot.com/review/'):\n",
    "            urls.append(link)\n",
    "    dedup_urls = list(set(urls))\n",
    "    return dedup_urls"
   ]
  },
  {
   "cell_type": "code",
   "execution_count": 69,
   "metadata": {},
   "outputs": [],
   "source": [
    "def go_next_page():\n",
    "    try:\n",
    "        button = driver.find_element_by_xpath('//a[@class=\"paginationLinkNormalize___scOgG paginationLinkNext___1LQ14\"]')\n",
    "        return True, button\n",
    "    except NoSuchElementException:\n",
    "        print('No Next Page')\n",
    "        return False, None"
   ]
  },
  {
   "cell_type": "code",
   "execution_count": 25,
   "metadata": {},
   "outputs": [],
   "source": [
    "options = Options()\n",
    "options.add_argument('--headless')\n",
    "options.add_argument('--no-sandbox')\n",
    "options.add_argument('start-maximized')\n",
    "options.add_argument('disable-infobars')\n",
    "options.add_argument(\"--disable-extensions\")\n",
    "\n",
    "prefs = {\"profile.managed_default_content_settings.images\": 2}\n",
    "options.add_experimental_option(\"prefs\", prefs)\n",
    "\n",
    "driver = webdriver.Chrome('./driver/chromedriver', options=options)\n",
    "\n",
    "timeout = 3"
   ]
  },
  {
   "cell_type": "code",
   "execution_count": null,
   "metadata": {},
   "outputs": [
    {
     "name": "stderr",
     "output_type": "stream",
     "text": [
      "C:\\Users\\teeji\\anaconda3\\lib\\site-packages\\ipykernel_launcher.py:2: TqdmDeprecationWarning: This function will be removed in tqdm==5.0.0\n",
      "Please use `tqdm.notebook.tqdm` instead of `tqdm.tqdm_notebook`\n",
      "  \n"
     ]
    },
    {
     "data": {
      "application/vnd.jupyter.widget-view+json": {
       "model_id": "1b5d4f7f880e46248bcb75652e5c3a7b",
       "version_major": 2,
       "version_minor": 0
      },
      "text/plain": [
       "HBox(children=(FloatProgress(value=0.0, max=22.0), HTML(value='')))"
      ]
     },
     "metadata": {},
     "output_type": "display_data"
    },
    {
     "name": "stderr",
     "output_type": "stream",
     "text": [
      "C:\\Users\\teeji\\anaconda3\\lib\\site-packages\\ipykernel_launcher.py:3: TqdmDeprecationWarning: This function will be removed in tqdm==5.0.0\n",
      "Please use `tqdm.notebook.tqdm` instead of `tqdm.tqdm_notebook`\n",
      "  This is separate from the ipykernel package so we can avoid doing imports until\n"
     ]
    },
    {
     "data": {
      "application/vnd.jupyter.widget-view+json": {
       "model_id": "aeb58fc58cca473085e40b03175ab473",
       "version_major": 2,
       "version_minor": 0
      },
      "text/plain": [
       "HBox(children=(FloatProgress(value=0.0, max=6.0), HTML(value='')))"
      ]
     },
     "metadata": {},
     "output_type": "display_data"
    },
    {
     "name": "stdout",
     "output_type": "stream",
     "text": [
      "URL =  https://trustpilot.com/categories/animal_health?numberofreviews=0&timeperiod=0&status=all\n",
      "Scanned Page 1 of  Animal Health URLs found :  12\n",
      "No Next Page\n",
      "URL =  https://trustpilot.com/categories/animal_parks_zoo?numberofreviews=0&timeperiod=0&status=all\n",
      "Scanned Page 1 of  Animal Parks & Zoo URLs found :  2\n",
      "No Next Page\n",
      "URL =  https://trustpilot.com/categories/cats_dogs?numberofreviews=0&timeperiod=0&status=all\n",
      "Scanned Page 1 of  Cats & Dogs URLs found :  12\n",
      "No Next Page\n",
      "URL =  https://trustpilot.com/categories/horses_riding?numberofreviews=0&timeperiod=0&status=all\n",
      "Scanned Page 1 of  Horses & Riding URLs found :  6\n",
      "No Next Page\n",
      "URL =  https://trustpilot.com/categories/pet_services?numberofreviews=0&timeperiod=0&status=all\n",
      "Scanned Page 1 of  Pet Services URLs found :  16\n",
      "No Next Page\n",
      "URL =  https://trustpilot.com/categories/pet_stores?numberofreviews=0&timeperiod=0&status=all\n",
      "Scanned Page 1 of  Pet Stores URLs found :  20\n",
      "Scanned Page 2 of  Pet Stores URLs found :  20\n",
      "Scanned Page 3 of  Pet Stores URLs found :  20\n",
      "Scanned Page 4 of  Pet Stores URLs found :  20\n",
      "Scanned Page 5 of  Pet Stores URLs found :  20\n",
      "Scanned Page 6 of  Pet Stores URLs found :  20\n",
      "Scanned Page 7 of  Pet Stores URLs found :  20\n",
      "Scanned Page 8 of  Pet Stores URLs found :  20\n",
      "Scanned Page 9 of  Pet Stores URLs found :  20\n",
      "Scanned Page 10 of  Pet Stores URLs found :  20\n",
      "Scanned Page 11 of  Pet Stores URLs found :  26\n",
      "No Next Page\n"
     ]
    },
    {
     "data": {
      "application/vnd.jupyter.widget-view+json": {
       "model_id": "66915b2e2bad4a45ab867e30ee4f2f29",
       "version_major": 2,
       "version_minor": 0
      },
      "text/plain": [
       "HBox(children=(FloatProgress(value=0.0, max=7.0), HTML(value='')))"
      ]
     },
     "metadata": {},
     "output_type": "display_data"
    },
    {
     "name": "stdout",
     "output_type": "stream",
     "text": [
      "URL =  https://trustpilot.com/categories/cosmetics_makeup?numberofreviews=0&timeperiod=0&status=all\n",
      "Scanned Page 1 of  Cosmetics & Makeup URLs found :  20\n",
      "Scanned Page 2 of  Cosmetics & Makeup URLs found :  20\n",
      "Scanned Page 3 of  Cosmetics & Makeup URLs found :  20\n",
      "Scanned Page 4 of  Cosmetics & Makeup URLs found :  20\n",
      "Scanned Page 5 of  Cosmetics & Makeup URLs found :  20\n",
      "Scanned Page 6 of  Cosmetics & Makeup URLs found :  20\n",
      "Scanned Page 7 of  Cosmetics & Makeup URLs found :  20\n",
      "Scanned Page 8 of  Cosmetics & Makeup URLs found :  20\n",
      "Scanned Page 9 of  Cosmetics & Makeup URLs found :  20\n",
      "Scanned Page 10 of  Cosmetics & Makeup URLs found :  36\n",
      "No Next Page\n",
      "URL =  https://trustpilot.com/categories/hair_care_styling?numberofreviews=0&timeperiod=0&status=all\n",
      "Scanned Page 1 of  Hair Care & Styling URLs found :  20\n",
      "Scanned Page 2 of  Hair Care & Styling URLs found :  20\n",
      "Scanned Page 3 of  Hair Care & Styling URLs found :  20\n",
      "Scanned Page 4 of  Hair Care & Styling URLs found :  20\n",
      "Scanned Page 5 of  Hair Care & Styling URLs found :  31\n",
      "No Next Page\n",
      "URL =  https://trustpilot.com/categories/personal_care?numberofreviews=0&timeperiod=0&status=all\n",
      "Scanned Page 1 of  Personal Care URLs found :  20\n",
      "Scanned Page 2 of  Personal Care URLs found :  20\n",
      "Scanned Page 3 of  Personal Care URLs found :  20\n",
      "Scanned Page 4 of  Personal Care URLs found :  20\n",
      "Scanned Page 5 of  Personal Care URLs found :  20\n",
      "Scanned Page 6 of  Personal Care URLs found :  20\n",
      "Scanned Page 7 of  Personal Care URLs found :  20\n",
      "Scanned Page 8 of  Personal Care URLs found :  20\n",
      "Scanned Page 9 of  Personal Care URLs found :  20\n",
      "Scanned Page 10 of  Personal Care URLs found :  20\n",
      "Scanned Page 11 of  Personal Care URLs found :  20\n",
      "Scanned Page 12 of  Personal Care URLs found :  20\n",
      "Scanned Page 13 of  Personal Care URLs found :  20\n",
      "Scanned Page 14 of  Personal Care URLs found :  20\n",
      "Scanned Page 15 of  Personal Care URLs found :  20\n",
      "Scanned Page 16 of  Personal Care URLs found :  20\n",
      "Scanned Page 17 of  Personal Care URLs found :  20\n",
      "Scanned Page 18 of  Personal Care URLs found :  20\n",
      "Scanned Page 19 of  Personal Care URLs found :  38\n",
      "No Next Page\n",
      "URL =  https://trustpilot.com/categories/salons_clinics?numberofreviews=0&timeperiod=0&status=all\n",
      "Scanned Page 1 of  Salons & Clinics URLs found :  20\n",
      "Scanned Page 2 of  Salons & Clinics URLs found :  20\n",
      "Scanned Page 3 of  Salons & Clinics URLs found :  20\n",
      "Scanned Page 4 of  Salons & Clinics URLs found :  20\n",
      "Scanned Page 5 of  Salons & Clinics URLs found :  20\n",
      "Scanned Page 6 of  Salons & Clinics URLs found :  20\n",
      "Scanned Page 7 of  Salons & Clinics URLs found :  20\n",
      "Scanned Page 8 of  Salons & Clinics URLs found :  22\n",
      "No Next Page\n",
      "URL =  https://trustpilot.com/categories/tattoos_piercings?numberofreviews=0&timeperiod=0&status=all\n",
      "Scanned Page 1 of  Tattoos & Piercings URLs found :  2\n",
      "No Next Page\n",
      "URL =  https://trustpilot.com/categories/wellness_spa?numberofreviews=0&timeperiod=0&status=all\n",
      "Scanned Page 1 of  Wellness & Spa URLs found :  20\n",
      "Scanned Page 2 of  Wellness & Spa URLs found :  20\n",
      "Scanned Page 3 of  Wellness & Spa URLs found :  20\n",
      "Scanned Page 4 of  Wellness & Spa URLs found :  38\n",
      "Scanned Page 5 of  Wellness & Spa URLs found :  20\n",
      "Scanned Page 6 of  Wellness & Spa URLs found :  20\n",
      "Scanned Page 7 of  Wellness & Spa URLs found :  20\n",
      "Scanned Page 8 of  Wellness & Spa URLs found :  20\n",
      "Scanned Page 9 of  Wellness & Spa URLs found :  20\n",
      "Scanned Page 10 of  Wellness & Spa URLs found :  20\n",
      "Scanned Page 11 of  Wellness & Spa URLs found :  20\n",
      "Scanned Page 12 of  Wellness & Spa URLs found :  20\n",
      "Scanned Page 13 of  Wellness & Spa URLs found :  20\n",
      "Scanned Page 14 of  Wellness & Spa URLs found :  30\n",
      "No Next Page\n",
      "URL =  https://trustpilot.com/categories/yoga_meditation?numberofreviews=0&timeperiod=0&status=all\n",
      "Scanned Page 1 of  Yoga & Meditation URLs found :  15\n",
      "No Next Page\n"
     ]
    },
    {
     "data": {
      "application/vnd.jupyter.widget-view+json": {
       "model_id": "ea4b2b4a44b244ad9c59a20e087fccf9",
       "version_major": 2,
       "version_minor": 0
      },
      "text/plain": [
       "HBox(children=(FloatProgress(value=0.0, max=11.0), HTML(value='')))"
      ]
     },
     "metadata": {},
     "output_type": "display_data"
    },
    {
     "name": "stdout",
     "output_type": "stream",
     "text": [
      "URL =  https://trustpilot.com/categories/administration_services?numberofreviews=0&timeperiod=0&status=all\n",
      "Scanned Page 1 of  Administration & Services URLs found :  20\n",
      "Scanned Page 2 of  Administration & Services URLs found :  20\n",
      "Scanned Page 3 of  Administration & Services URLs found :  20\n",
      "Scanned Page 4 of  Administration & Services URLs found :  20\n",
      "Scanned Page 5 of  Administration & Services URLs found :  20\n",
      "Scanned Page 6 of  Administration & Services URLs found :  20\n",
      "Scanned Page 7 of  Administration & Services URLs found :  20\n",
      "Scanned Page 8 of  Administration & Services URLs found :  20\n",
      "Scanned Page 9 of  Administration & Services URLs found :  20\n",
      "Scanned Page 10 of  Administration & Services URLs found :  20\n",
      "Scanned Page 11 of  Administration & Services URLs found :  20\n",
      "Scanned Page 12 of  Administration & Services URLs found :  20\n",
      "Scanned Page 13 of  Administration & Services URLs found :  20\n",
      "Scanned Page 14 of  Administration & Services URLs found :  20\n",
      "Scanned Page 15 of  Administration & Services URLs found :  20\n",
      "Scanned Page 16 of  Administration & Services URLs found :  39\n",
      "Scanned Page 17 of  Administration & Services URLs found :  20\n",
      "Scanned Page 18 of  Administration & Services URLs found :  20\n",
      "Scanned Page 19 of  Administration & Services URLs found :  20\n",
      "Scanned Page 20 of  Administration & Services URLs found :  20\n",
      "Scanned Page 21 of  Administration & Services URLs found :  20\n",
      "Scanned Page 22 of  Administration & Services URLs found :  20\n",
      "Scanned Page 23 of  Administration & Services URLs found :  20\n",
      "Scanned Page 24 of  Administration & Services URLs found :  20\n",
      "Scanned Page 25 of  Administration & Services URLs found :  20\n",
      "Scanned Page 26 of  Administration & Services URLs found :  20\n",
      "Scanned Page 27 of  Administration & Services URLs found :  20\n",
      "Scanned Page 28 of  Administration & Services URLs found :  20\n",
      "Scanned Page 29 of  Administration & Services URLs found :  20\n",
      "Scanned Page 30 of  Administration & Services URLs found :  20\n",
      "Scanned Page 31 of  Administration & Services URLs found :  20\n",
      "Scanned Page 32 of  Administration & Services URLs found :  20\n",
      "Scanned Page 33 of  Administration & Services URLs found :  20\n",
      "Scanned Page 34 of  Administration & Services URLs found :  20\n",
      "Scanned Page 35 of  Administration & Services URLs found :  20\n",
      "Scanned Page 36 of  Administration & Services URLs found :  20\n",
      "Scanned Page 37 of  Administration & Services URLs found :  20\n",
      "Scanned Page 38 of  Administration & Services URLs found :  20\n",
      "Scanned Page 39 of  Administration & Services URLs found :  20\n",
      "Scanned Page 40 of  Administration & Services URLs found :  20\n",
      "Scanned Page 41 of  Administration & Services URLs found :  20\n",
      "Scanned Page 42 of  Administration & Services URLs found :  20\n",
      "Scanned Page 43 of  Administration & Services URLs found :  20\n",
      "Scanned Page 44 of  Administration & Services URLs found :  20\n",
      "Scanned Page 45 of  Administration & Services URLs found :  20\n",
      "Scanned Page 46 of  Administration & Services URLs found :  20\n",
      "Scanned Page 47 of  Administration & Services URLs found :  20\n",
      "Scanned Page 48 of  Administration & Services URLs found :  20\n"
     ]
    }
   ],
   "source": [
    "company_urls = {}\n",
    "for category in tqdm_notebook(data):\n",
    "    for sub_category in tqdm_notebook(data[category], leave=False):\n",
    "        company_urls[sub_category] = []\n",
    "        \n",
    "        ''' 1. Fetching URLs for each sub-category '''\n",
    "        \n",
    "        url = base_url + data[category][sub_category] + \"?numberofreviews=0&timeperiod=0&status=all\"\n",
    "        print('URL = ',url)\n",
    "        \n",
    "        ''' 2. Check if current page has URLs for companies, else continue to next sub-category '''\n",
    "        \n",
    "        driver.get(url)\n",
    "        try: \n",
    "            element_present = EC.presence_of_element_located(\n",
    "                (By.CLASS_NAME, 'businessUnitCardsContainer___Qhix1'))\n",
    "            WebDriverWait(driver, timeout).until(element_present)\n",
    "        except:\n",
    "            pass\n",
    "        \n",
    "        ''' 3. Add all review links in page to list '''   \n",
    "        \n",
    "        next_page = True\n",
    "        count = 1\n",
    "        while next_page:\n",
    "            extracted_company_urls = fetch_company_urls_form_page()\n",
    "            print(\"Scanned Page\", count, \"of \", sub_category, \"URLs found : \", len(extracted_company_urls))\n",
    "            company_urls[sub_category] += extracted_company_urls\n",
    "            next_page, button = go_next_page()\n",
    "            \n",
    "            if next_page:\n",
    "                count += 1\n",
    "                next_url = base_url + data[category][sub_category] + \"?numberofreviews=0&timeperiod=0&status=all\" + f'&page={count}'\n",
    "                driver.get(next_url)\n",
    "                try: \n",
    "                    element_present = EC.presence_of_element_located(\n",
    "                        (By.CLASS_NAME, 'businessUnitCardsContainer___Qhix1'))\n",
    "                    WebDriverWait(driver, timeout).until(element_present)\n",
    "                except:\n",
    "                    print('No next page left')\n",
    "                    pass"
   ]
  },
  {
   "cell_type": "code",
   "execution_count": 18,
   "metadata": {},
   "outputs": [
    {
     "data": {
      "text/plain": [
       "{'Animal Health': [],\n",
       " 'Animal Parks & Zoo': [],\n",
       " 'Cats & Dogs': [],\n",
       " 'Horses & Riding': [],\n",
       " 'Pet Services': [],\n",
       " 'Pet Stores': [],\n",
       " 'Cosmetics & Makeup': [],\n",
       " 'Hair Care & Styling': [],\n",
       " 'Personal Care': [],\n",
       " 'Salons & Clinics': [],\n",
       " 'Tattoos & Piercings': [],\n",
       " 'Wellness & Spa': []}"
      ]
     },
     "execution_count": 18,
     "metadata": {},
     "output_type": "execute_result"
    }
   ],
   "source": [
    "company_urls"
   ]
  },
  {
   "cell_type": "code",
   "execution_count": null,
   "metadata": {},
   "outputs": [],
   "source": []
  }
 ],
 "metadata": {
  "kernelspec": {
   "display_name": "Python 3",
   "language": "python",
   "name": "python3"
  },
  "language_info": {
   "codemirror_mode": {
    "name": "ipython",
    "version": 3
   },
   "file_extension": ".py",
   "mimetype": "text/x-python",
   "name": "python",
   "nbconvert_exporter": "python",
   "pygments_lexer": "ipython3",
   "version": "3.7.6"
  }
 },
 "nbformat": 4,
 "nbformat_minor": 4
}
