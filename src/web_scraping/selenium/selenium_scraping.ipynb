{
 "cells": [
  {
   "cell_type": "code",
   "execution_count": 1,
   "metadata": {},
   "outputs": [],
   "source": [
    "import json\n",
    "import time"
   ]
  },
  {
   "cell_type": "code",
   "execution_count": 2,
   "metadata": {},
   "outputs": [],
   "source": [
    "from bs4 import BeautifulSoup\n",
    "import requests\n",
    "import pandas as pd"
   ]
  },
  {
   "cell_type": "code",
   "execution_count": 3,
   "metadata": {},
   "outputs": [],
   "source": [
    "from selenium import webdriver\n",
    "from selenium.common.exceptions import NoSuchElementException\n",
    "from selenium.common.exceptions import TimeoutException\n",
    "from selenium.webdriver.support.ui import WebDriverWait\n",
    "from selenium.webdriver.support import expected_conditions as EC\n",
    "from selenium.webdriver.common.by import By\n",
    "from selenium.webdriver.chrome.options import Options"
   ]
  },
  {
   "cell_type": "code",
   "execution_count": 4,
   "metadata": {},
   "outputs": [],
   "source": [
    "from tqdm import tqdm_notebook"
   ]
  },
  {
   "cell_type": "code",
   "execution_count": 5,
   "metadata": {},
   "outputs": [],
   "source": [
    "base_url = \"https://www.trustpilot.com\""
   ]
  },
  {
   "cell_type": "code",
   "execution_count": 6,
   "metadata": {},
   "outputs": [],
   "source": [
    "def get_soup(url):\n",
    "    return BeautifulSoup(requests.get(url).content, 'lxml')"
   ]
  },
  {
   "cell_type": "code",
   "execution_count": 7,
   "metadata": {},
   "outputs": [
    {
     "data": {
      "text/plain": [
       "' data will have all sub-catogaries in JSON format 👍'"
      ]
     },
     "execution_count": 7,
     "metadata": {},
     "output_type": "execute_result"
    }
   ],
   "source": [
    "data = {}\n",
    "\n",
    "soup = get_soup(base_url + '/categories')\n",
    "for category in soup.findAll('div', {'class' : 'subCategory___BRUDy'}):\n",
    "    data[category['id']] = {}\n",
    "    for sub_category in category.findAll('div', {'class' : 'subCategoryItem___3ksKz'}):\n",
    "        '''Note : .find() will search and return the first occurence but .findAll() will return all occurences'''\n",
    "        name = sub_category.find('span').text\n",
    "        link = sub_category.find('a', {'class' : 'internal___1jK0Z typography___lxzyt weight-inherit___229vl navigation___2n5P8'})['href']\n",
    "        data[category['id']][name] = link\n",
    "        \n",
    "''' data will have all sub-catogaries in JSON format 👍'''"
   ]
  },
  {
   "cell_type": "code",
   "execution_count": 8,
   "metadata": {},
   "outputs": [],
   "source": [
    "def fetch_company_urls_form_page():\n",
    "    a_list = driver.find_elements_by_xpath('//a[@class=\"internal___1jK0Z wrapper___26yB4\"]')\n",
    "    urls=[]\n",
    "    for a in a_list:\n",
    "        link = str(a.get_attribute('href'))\n",
    "        if link.startswith('https://www.trustpilot.com/review/'):\n",
    "            urls.append(link)\n",
    "    dedup_urls = list(set(urls))\n",
    "    return dedup_urls"
   ]
  },
  {
   "cell_type": "code",
   "execution_count": 12,
   "metadata": {},
   "outputs": [],
   "source": [
    "def go_next_page():\n",
    "    try:\n",
    "        button = driver.find_element_by_xpath('//a[@class=\"paginationLinkNormalize___scOgG paginationLinkNext___1LQ14\"]')\n",
    "        print('next page found')\n",
    "        return True, button\n",
    "    except NoSuchElementException:\n",
    "        print('No Next Page')\n",
    "        return False, None"
   ]
  },
  {
   "cell_type": "code",
   "execution_count": 10,
   "metadata": {},
   "outputs": [],
   "source": [
    "options = Options()\n",
    "options.add_argument('--headless')\n",
    "options.add_argument('--no-sandbox')\n",
    "options.add_argument('start-maximized')\n",
    "options.add_argument('disable-infobars')\n",
    "options.add_argument(\"--disable-extensions\")\n",
    "\n",
    "prefs = {\"profile.managed_default_content_settings.images\": 2}\n",
    "options.add_experimental_option(\"prefs\", prefs)\n",
    "\n",
    "driver = webdriver.Chrome('./driver/chromedriver', options=options)\n",
    "\n",
    "timeout = 3"
   ]
  },
  {
   "cell_type": "code",
   "execution_count": 14,
   "metadata": {},
   "outputs": [
    {
     "data": {
      "text/plain": [
       "'/categories/gambling'"
      ]
     },
     "execution_count": 14,
     "metadata": {},
     "output_type": "execute_result"
    }
   ],
   "source": [
    "''' Fixing issue with website where /categories/gambling redirects to /categories/gambling_house '''\n",
    "\n",
    "test = data['events_entertainment']\n",
    "test['gambling_house'] = '/categories/gambling_house'\n",
    "test['betting_agency'] = '/categories/betting_agency'\n",
    "test['bookmaker'] = '/categories/bookmaker'\n",
    "test['casino'] = '/categories/casino'\n",
    "test['gambling_instructor'] = '/categories/gambling_instructor'\n",
    "test['gambling_service'] = '/categories/gambling_service'\n",
    "test['lottery_vendor'] = '/categories/lottery_vendor'\n",
    "test['online_casino_or_bookmaker'] = '/categories/online_casino_or_bookmaker'\n",
    "test['online_sports_betting'] = '/categories/online_sports_betting'\n",
    "test.pop('Gambling', None)"
   ]
  },
  {
   "cell_type": "code",
   "execution_count": 29,
   "metadata": {},
   "outputs": [],
   "source": [
    "company_urls = {}\n",
    "wrong_redirects = []"
   ]
  },
  {
   "cell_type": "code",
   "execution_count": 34,
   "metadata": {},
   "outputs": [
    {
     "name": "stderr",
     "output_type": "stream",
     "text": [
      "C:\\Users\\teeji\\anaconda3\\lib\\site-packages\\ipykernel_launcher.py:1: TqdmDeprecationWarning: This function will be removed in tqdm==5.0.0\n",
      "Please use `tqdm.notebook.tqdm` instead of `tqdm.tqdm_notebook`\n",
      "  \"\"\"Entry point for launching an IPython kernel.\n"
     ]
    },
    {
     "data": {
      "application/vnd.jupyter.widget-view+json": {
       "model_id": "125c1fe2951d44a0b4f69fbc43bf75a6",
       "version_major": 2,
       "version_minor": 0
      },
      "text/plain": [
       "HBox(children=(FloatProgress(value=0.0, max=22.0), HTML(value='')))"
      ]
     },
     "metadata": {},
     "output_type": "display_data"
    },
    {
     "name": "stderr",
     "output_type": "stream",
     "text": [
      "C:\\Users\\teeji\\anaconda3\\lib\\site-packages\\ipykernel_launcher.py:2: TqdmDeprecationWarning: This function will be removed in tqdm==5.0.0\n",
      "Please use `tqdm.notebook.tqdm` instead of `tqdm.tqdm_notebook`\n",
      "  \n"
     ]
    },
    {
     "data": {
      "application/vnd.jupyter.widget-view+json": {
       "model_id": "67ba98ed033f435497bf4c4fd1400a94",
       "version_major": 2,
       "version_minor": 0
      },
      "text/plain": [
       "HBox(children=(FloatProgress(value=0.0, max=6.0), HTML(value='')))"
      ]
     },
     "metadata": {},
     "output_type": "display_data"
    },
    {
     "name": "stdout",
     "output_type": "stream",
     "text": [
      "Already Present :  Animal Health\n",
      "Already Present :  Animal Parks & Zoo\n",
      "Already Present :  Cats & Dogs\n",
      "Already Present :  Horses & Riding\n",
      "Already Present :  Pet Services\n",
      "Already Present :  Pet Stores\n"
     ]
    },
    {
     "data": {
      "application/vnd.jupyter.widget-view+json": {
       "model_id": "0fb384ca01834b64a1d1579e770ead96",
       "version_major": 2,
       "version_minor": 0
      },
      "text/plain": [
       "HBox(children=(FloatProgress(value=0.0, max=7.0), HTML(value='')))"
      ]
     },
     "metadata": {},
     "output_type": "display_data"
    },
    {
     "name": "stdout",
     "output_type": "stream",
     "text": [
      "Already Present :  Cosmetics & Makeup\n",
      "Already Present :  Hair Care & Styling\n",
      "Already Present :  Personal Care\n",
      "Already Present :  Salons & Clinics\n",
      "Already Present :  Tattoos & Piercings\n",
      "Already Present :  Wellness & Spa\n",
      "Already Present :  Yoga & Meditation\n"
     ]
    },
    {
     "data": {
      "application/vnd.jupyter.widget-view+json": {
       "model_id": "d3cd9de4c359491189b75e8b1fe4951b",
       "version_major": 2,
       "version_minor": 0
      },
      "text/plain": [
       "HBox(children=(FloatProgress(value=0.0, max=11.0), HTML(value='')))"
      ]
     },
     "metadata": {},
     "output_type": "display_data"
    },
    {
     "name": "stdout",
     "output_type": "stream",
     "text": [
      "Already Present :  Administration & Services\n",
      "Already Present :  Associations & Centers\n",
      "Already Present :  HR & Recruiting\n",
      "Already Present :  IT & Communication\n",
      "Already Present :  Import & Export\n",
      "Already Present :  Office Space & Supplies\n",
      "Already Present :  Print & Graphic Design\n",
      "Already Present :  Research & Development\n",
      "URL =  https://www.trustpilot.com/categories/sales_marketing?numberofreviews=0&timeperiod=0&status=all\n",
      "Current Sub-Category :  business_services -> Sales & Marketing\n",
      "Current Page URL in Loop :  https://www.trustpilot.com/categories/sales_marketing?numberofreviews=0&timeperiod=0&status=all\n",
      "Scanned Page 1 of  Sales & Marketing URLs found :  0\n",
      "No Next Page\n",
      "URL =  https://www.trustpilot.com/categories/shipping_logistics?numberofreviews=0&timeperiod=0&status=all\n",
      "Current Sub-Category :  business_services -> Shipping & Logistics\n",
      "Current Page URL in Loop :  https://www.trustpilot.com/categories/shipping_logistics?numberofreviews=0&timeperiod=0&status=all\n",
      "Scanned Page 1 of  Shipping & Logistics URLs found :  0\n",
      "No Next Page\n",
      "URL =  https://www.trustpilot.com/categories/wholesale?numberofreviews=0&timeperiod=0&status=all\n",
      "Current Sub-Category :  business_services -> Wholesale\n",
      "Current Page URL in Loop :  https://www.trustpilot.com/categories/wholesale?numberofreviews=0&timeperiod=0&status=all\n",
      "Scanned Page 1 of  Wholesale URLs found :  0\n",
      "No Next Page\n"
     ]
    },
    {
     "data": {
      "application/vnd.jupyter.widget-view+json": {
       "model_id": "7533a782719747f6b263eb6ea2608bf3",
       "version_major": 2,
       "version_minor": 0
      },
      "text/plain": [
       "HBox(children=(FloatProgress(value=0.0, max=11.0), HTML(value='')))"
      ]
     },
     "metadata": {},
     "output_type": "display_data"
    },
    {
     "name": "stdout",
     "output_type": "stream",
     "text": [
      "URL =  https://www.trustpilot.com/categories/architects_engineers?numberofreviews=0&timeperiod=0&status=all\n",
      "Current Sub-Category :  construction_manufactoring -> Architects & Engineers\n",
      "Current Page URL in Loop :  https://www.trustpilot.com/categories/architects_engineers?numberofreviews=0&timeperiod=0&status=all\n",
      "Scanned Page 1 of  Architects & Engineers URLs found :  0\n",
      "No Next Page\n",
      "URL =  https://www.trustpilot.com/categories/building_materials?numberofreviews=0&timeperiod=0&status=all\n",
      "Current Sub-Category :  construction_manufactoring -> Building Materials\n",
      "Current Page URL in Loop :  https://www.trustpilot.com/categories/building_materials?numberofreviews=0&timeperiod=0&status=all\n",
      "Scanned Page 1 of  Building Materials URLs found :  0\n",
      "No Next Page\n",
      "URL =  https://www.trustpilot.com/categories/chemicals_plastic?numberofreviews=0&timeperiod=0&status=all\n",
      "Current Sub-Category :  construction_manufactoring -> Chemicals & Plastic\n",
      "Current Page URL in Loop :  https://www.trustpilot.com/categories/chemicals_plastic?numberofreviews=0&timeperiod=0&status=all\n",
      "Scanned Page 1 of  Chemicals & Plastic URLs found :  0\n",
      "No Next Page\n",
      "URL =  https://www.trustpilot.com/categories/construction_services?numberofreviews=0&timeperiod=0&status=all\n",
      "Current Sub-Category :  construction_manufactoring -> Construction Services\n",
      "Current Page URL in Loop :  https://www.trustpilot.com/categories/construction_services?numberofreviews=0&timeperiod=0&status=all\n",
      "Scanned Page 1 of  Construction Services URLs found :  0\n",
      "No Next Page\n",
      "URL =  https://www.trustpilot.com/categories/contractors_consultants?numberofreviews=0&timeperiod=0&status=all\n",
      "Current Sub-Category :  construction_manufactoring -> Contractors & Consultants\n",
      "Current Page URL in Loop : "
     ]
    },
    {
     "ename": "KeyboardInterrupt",
     "evalue": "",
     "output_type": "error",
     "traceback": [
      "\u001b[1;31m---------------------------------------------------------------------------\u001b[0m",
      "\u001b[1;31mKeyboardInterrupt\u001b[0m                         Traceback (most recent call last)",
      "\u001b[1;32m<ipython-input-34-958b95836f1c>\u001b[0m in \u001b[0;36m<module>\u001b[1;34m\u001b[0m\n\u001b[0;32m     43\u001b[0m \u001b[1;33m\u001b[0m\u001b[0m\n\u001b[0;32m     44\u001b[0m         \u001b[1;32mwhile\u001b[0m \u001b[0mnext_page\u001b[0m\u001b[1;33m:\u001b[0m\u001b[1;33m\u001b[0m\u001b[1;33m\u001b[0m\u001b[0m\n\u001b[1;32m---> 45\u001b[1;33m             \u001b[0mprint\u001b[0m\u001b[1;33m(\u001b[0m\u001b[1;34m'Current Page URL in Loop : '\u001b[0m\u001b[1;33m,\u001b[0m \u001b[0mdriver\u001b[0m\u001b[1;33m.\u001b[0m\u001b[0mcurrent_url\u001b[0m\u001b[1;33m)\u001b[0m\u001b[1;33m\u001b[0m\u001b[1;33m\u001b[0m\u001b[0m\n\u001b[0m\u001b[0;32m     46\u001b[0m             \u001b[0mextracted_company_urls\u001b[0m \u001b[1;33m=\u001b[0m \u001b[0mfetch_company_urls_form_page\u001b[0m\u001b[1;33m(\u001b[0m\u001b[1;33m)\u001b[0m\u001b[1;33m\u001b[0m\u001b[1;33m\u001b[0m\u001b[0m\n\u001b[0;32m     47\u001b[0m             \u001b[0mprint\u001b[0m\u001b[1;33m(\u001b[0m\u001b[1;34m\"Scanned Page\"\u001b[0m\u001b[1;33m,\u001b[0m \u001b[0mcount\u001b[0m\u001b[1;33m,\u001b[0m \u001b[1;34m\"of \"\u001b[0m\u001b[1;33m,\u001b[0m \u001b[0msub_category\u001b[0m\u001b[1;33m,\u001b[0m \u001b[1;34m\"URLs found : \"\u001b[0m\u001b[1;33m,\u001b[0m \u001b[0mlen\u001b[0m\u001b[1;33m(\u001b[0m\u001b[0mextracted_company_urls\u001b[0m\u001b[1;33m)\u001b[0m\u001b[1;33m)\u001b[0m\u001b[1;33m\u001b[0m\u001b[1;33m\u001b[0m\u001b[0m\n",
      "\u001b[1;32m~\\anaconda3\\lib\\site-packages\\ipykernel\\iostream.py\u001b[0m in \u001b[0;36mwrite\u001b[1;34m(self, string)\u001b[0m\n\u001b[0;32m    400\u001b[0m             \u001b[0mis_child\u001b[0m \u001b[1;33m=\u001b[0m \u001b[1;33m(\u001b[0m\u001b[1;32mnot\u001b[0m \u001b[0mself\u001b[0m\u001b[1;33m.\u001b[0m\u001b[0m_is_master_process\u001b[0m\u001b[1;33m(\u001b[0m\u001b[1;33m)\u001b[0m\u001b[1;33m)\u001b[0m\u001b[1;33m\u001b[0m\u001b[1;33m\u001b[0m\u001b[0m\n\u001b[0;32m    401\u001b[0m             \u001b[1;31m# only touch the buffer in the IO thread to avoid races\u001b[0m\u001b[1;33m\u001b[0m\u001b[1;33m\u001b[0m\u001b[1;33m\u001b[0m\u001b[0m\n\u001b[1;32m--> 402\u001b[1;33m             \u001b[0mself\u001b[0m\u001b[1;33m.\u001b[0m\u001b[0mpub_thread\u001b[0m\u001b[1;33m.\u001b[0m\u001b[0mschedule\u001b[0m\u001b[1;33m(\u001b[0m\u001b[1;32mlambda\u001b[0m \u001b[1;33m:\u001b[0m \u001b[0mself\u001b[0m\u001b[1;33m.\u001b[0m\u001b[0m_buffer\u001b[0m\u001b[1;33m.\u001b[0m\u001b[0mwrite\u001b[0m\u001b[1;33m(\u001b[0m\u001b[0mstring\u001b[0m\u001b[1;33m)\u001b[0m\u001b[1;33m)\u001b[0m\u001b[1;33m\u001b[0m\u001b[1;33m\u001b[0m\u001b[0m\n\u001b[0m\u001b[0;32m    403\u001b[0m             \u001b[1;32mif\u001b[0m \u001b[0mis_child\u001b[0m\u001b[1;33m:\u001b[0m\u001b[1;33m\u001b[0m\u001b[1;33m\u001b[0m\u001b[0m\n\u001b[0;32m    404\u001b[0m                 \u001b[1;31m# newlines imply flush in subprocesses\u001b[0m\u001b[1;33m\u001b[0m\u001b[1;33m\u001b[0m\u001b[1;33m\u001b[0m\u001b[0m\n",
      "\u001b[1;32m~\\anaconda3\\lib\\site-packages\\ipykernel\\iostream.py\u001b[0m in \u001b[0;36mschedule\u001b[1;34m(self, f)\u001b[0m\n\u001b[0;32m    203\u001b[0m             \u001b[0mself\u001b[0m\u001b[1;33m.\u001b[0m\u001b[0m_events\u001b[0m\u001b[1;33m.\u001b[0m\u001b[0mappend\u001b[0m\u001b[1;33m(\u001b[0m\u001b[0mf\u001b[0m\u001b[1;33m)\u001b[0m\u001b[1;33m\u001b[0m\u001b[1;33m\u001b[0m\u001b[0m\n\u001b[0;32m    204\u001b[0m             \u001b[1;31m# wake event thread (message content is ignored)\u001b[0m\u001b[1;33m\u001b[0m\u001b[1;33m\u001b[0m\u001b[1;33m\u001b[0m\u001b[0m\n\u001b[1;32m--> 205\u001b[1;33m             \u001b[0mself\u001b[0m\u001b[1;33m.\u001b[0m\u001b[0m_event_pipe\u001b[0m\u001b[1;33m.\u001b[0m\u001b[0msend\u001b[0m\u001b[1;33m(\u001b[0m\u001b[1;34mb''\u001b[0m\u001b[1;33m)\u001b[0m\u001b[1;33m\u001b[0m\u001b[1;33m\u001b[0m\u001b[0m\n\u001b[0m\u001b[0;32m    206\u001b[0m         \u001b[1;32melse\u001b[0m\u001b[1;33m:\u001b[0m\u001b[1;33m\u001b[0m\u001b[1;33m\u001b[0m\u001b[0m\n\u001b[0;32m    207\u001b[0m             \u001b[0mf\u001b[0m\u001b[1;33m(\u001b[0m\u001b[1;33m)\u001b[0m\u001b[1;33m\u001b[0m\u001b[1;33m\u001b[0m\u001b[0m\n",
      "\u001b[1;32m~\\anaconda3\\lib\\site-packages\\zmq\\sugar\\socket.py\u001b[0m in \u001b[0;36msend\u001b[1;34m(self, data, flags, copy, track, routing_id, group)\u001b[0m\n\u001b[0;32m    398\u001b[0m                                  copy_threshold=self.copy_threshold)\n\u001b[0;32m    399\u001b[0m             \u001b[0mdata\u001b[0m\u001b[1;33m.\u001b[0m\u001b[0mgroup\u001b[0m \u001b[1;33m=\u001b[0m \u001b[0mgroup\u001b[0m\u001b[1;33m\u001b[0m\u001b[1;33m\u001b[0m\u001b[0m\n\u001b[1;32m--> 400\u001b[1;33m         \u001b[1;32mreturn\u001b[0m \u001b[0msuper\u001b[0m\u001b[1;33m(\u001b[0m\u001b[0mSocket\u001b[0m\u001b[1;33m,\u001b[0m \u001b[0mself\u001b[0m\u001b[1;33m)\u001b[0m\u001b[1;33m.\u001b[0m\u001b[0msend\u001b[0m\u001b[1;33m(\u001b[0m\u001b[0mdata\u001b[0m\u001b[1;33m,\u001b[0m \u001b[0mflags\u001b[0m\u001b[1;33m=\u001b[0m\u001b[0mflags\u001b[0m\u001b[1;33m,\u001b[0m \u001b[0mcopy\u001b[0m\u001b[1;33m=\u001b[0m\u001b[0mcopy\u001b[0m\u001b[1;33m,\u001b[0m \u001b[0mtrack\u001b[0m\u001b[1;33m=\u001b[0m\u001b[0mtrack\u001b[0m\u001b[1;33m)\u001b[0m\u001b[1;33m\u001b[0m\u001b[1;33m\u001b[0m\u001b[0m\n\u001b[0m\u001b[0;32m    401\u001b[0m \u001b[1;33m\u001b[0m\u001b[0m\n\u001b[0;32m    402\u001b[0m     \u001b[1;32mdef\u001b[0m \u001b[0msend_multipart\u001b[0m\u001b[1;33m(\u001b[0m\u001b[0mself\u001b[0m\u001b[1;33m,\u001b[0m \u001b[0mmsg_parts\u001b[0m\u001b[1;33m,\u001b[0m \u001b[0mflags\u001b[0m\u001b[1;33m=\u001b[0m\u001b[1;36m0\u001b[0m\u001b[1;33m,\u001b[0m \u001b[0mcopy\u001b[0m\u001b[1;33m=\u001b[0m\u001b[1;32mTrue\u001b[0m\u001b[1;33m,\u001b[0m \u001b[0mtrack\u001b[0m\u001b[1;33m=\u001b[0m\u001b[1;32mFalse\u001b[0m\u001b[1;33m,\u001b[0m \u001b[1;33m**\u001b[0m\u001b[0mkwargs\u001b[0m\u001b[1;33m)\u001b[0m\u001b[1;33m:\u001b[0m\u001b[1;33m\u001b[0m\u001b[1;33m\u001b[0m\u001b[0m\n",
      "\u001b[1;32mzmq/backend/cython/socket.pyx\u001b[0m in \u001b[0;36mzmq.backend.cython.socket.Socket.send\u001b[1;34m()\u001b[0m\n",
      "\u001b[1;32mzmq/backend/cython/socket.pyx\u001b[0m in \u001b[0;36mzmq.backend.cython.socket.Socket.send\u001b[1;34m()\u001b[0m\n",
      "\u001b[1;32mzmq/backend/cython/socket.pyx\u001b[0m in \u001b[0;36mzmq.backend.cython.socket._send_copy\u001b[1;34m()\u001b[0m\n",
      "\u001b[1;32m~\\anaconda3\\lib\\site-packages\\zmq\\backend\\cython\\checkrc.pxd\u001b[0m in \u001b[0;36mzmq.backend.cython.checkrc._check_rc\u001b[1;34m()\u001b[0m\n",
      "\u001b[1;31mKeyboardInterrupt\u001b[0m: "
     ]
    }
   ],
   "source": [
    "for category in tqdm_notebook(data):\n",
    "    for sub_category in tqdm_notebook(data[category], leave=False):\n",
    "        \n",
    "        ''' 0. Checking if sub-category already present. Useful in case of power faliure and re-running of this cell '''\n",
    "        \n",
    "        if ((sub_category in company_urls) and (company_urls[sub_category] != '')):\n",
    "            print('Already Present : ', sub_category)\n",
    "            continue\n",
    "        else:\n",
    "            company_urls[sub_category] = []\n",
    "        \n",
    "        ''' 1. Fetching URLs for each sub-category '''\n",
    "        \n",
    "        url = base_url + data[category][sub_category] + \"?numberofreviews=0&timeperiod=0&status=all\"\n",
    "        print('URL = ',url)\n",
    "        \n",
    "        ''' 2. Printing Info '''\n",
    "        \n",
    "        print (\"Current Sub-Category : \", category, '->', sub_category)\n",
    "        driver.get(url)\n",
    "        current_url = driver.current_url\n",
    "        \n",
    "        ''' 3. Checking for bad URL redirects '''\n",
    "        \n",
    "        if (url != current_url):\n",
    "            print('Pre URL : ', url, '\\nRedirected URL : ', current_url)\n",
    "            wrong_redirects.append(sub_category)\n",
    "            print('Bad URL redirect with : ', sub_category)\n",
    "            break\n",
    "            \n",
    "        ''' 4. Check if current page has URLs for companies, else continue to next sub-category '''            \n",
    "        try: \n",
    "            element_present = EC.presence_of_element_located(\n",
    "                (By.CLASS_NAME, 'businessUnitCardsContainer___Qhix1'))\n",
    "            WebDriverWait(driver, timeout).until(element_present)\n",
    "        except:\n",
    "            pass\n",
    "        \n",
    "        ''' 5. Add all review links in page to list '''   \n",
    "        \n",
    "        next_page = True\n",
    "        count = 1\n",
    "        \n",
    "        while next_page:\n",
    "            print('Current Page URL in Loop : ', driver.current_url)\n",
    "            extracted_company_urls = fetch_company_urls_form_page()\n",
    "            print(\"Scanned Page\", count, \"of \", sub_category, \"URLs found : \", len(extracted_company_urls))\n",
    "            company_urls[sub_category] += extracted_company_urls\n",
    "            next_page, button = go_next_page()\n",
    "            \n",
    "            if next_page:\n",
    "                count += 1\n",
    "                next_url = base_url + data[category][sub_category] + \"?numberofreviews=0&timeperiod=0&status=all\" + f'&page={count}'\n",
    "                driver.get(next_url)\n",
    "                try: \n",
    "                    element_present = EC.presence_of_element_located(\n",
    "                        (By.CLASS_NAME, 'businessUnitCardsContainer___Qhix1'))\n",
    "                    WebDriverWait(driver, timeout).until(element_present)\n",
    "                except:\n",
    "                    print('No next page left')\n",
    "                    pass"
   ]
  },
  {
   "cell_type": "code",
   "execution_count": 33,
   "metadata": {},
   "outputs": [
    {
     "data": {
      "text/plain": [
       "dict_keys(['Animal Health', 'Animal Parks & Zoo', 'Cats & Dogs', 'Horses & Riding', 'Pet Services', 'Pet Stores', 'Cosmetics & Makeup', 'Hair Care & Styling', 'Personal Care', 'Salons & Clinics', 'Tattoos & Piercings', 'Wellness & Spa', 'Yoga & Meditation', 'Administration & Services', 'Associations & Centers', 'HR & Recruiting', 'IT & Communication', 'Import & Export', 'Office Space & Supplies', 'Print & Graphic Design', 'Research & Development'])"
      ]
     },
     "execution_count": 33,
     "metadata": {},
     "output_type": "execute_result"
    }
   ],
   "source": [
    "''' Checking current list of keys '''\n",
    "company_urls.keys()\n"
   ]
  },
  {
   "cell_type": "code",
   "execution_count": 15,
   "metadata": {},
   "outputs": [],
   "source": [
    "''' Dropping failed keys and starting from point of corruption due to power faliure '''\n",
    "\n",
    "incomplete_key = \"Children's Entertainment\"\n",
    "company_urls.pop(key, None)"
   ]
  },
  {
   "cell_type": "code",
   "execution_count": 28,
   "metadata": {},
   "outputs": [
    {
     "data": {
      "text/plain": [
       "dict_keys([])"
      ]
     },
     "execution_count": 28,
     "metadata": {},
     "output_type": "execute_result"
    }
   ],
   "source": [
    "''' Verifying successful corrupt key removal '''\n",
    "\n",
    "company_urls.keys()"
   ]
  },
  {
   "cell_type": "code",
   "execution_count": 18,
   "metadata": {},
   "outputs": [
    {
     "data": {
      "text/plain": [
       "dict_keys(['animals_pets', 'beauty_wellbeing', 'business_services', 'construction_manufactoring', 'education_training', 'electronics_technology', 'events_entertainment', 'food_beverages_tobacco', 'health_medical', 'hobbies_crafts', 'home_garden', 'home_services', 'legal_services_government', 'media_publishing', 'money_insurance', 'public_local_services', 'restaurants_bars', 'shopping_fashion', 'sports', 'travel_vacation', 'utilities', 'vehicles_transportation'])"
      ]
     },
     "execution_count": 18,
     "metadata": {},
     "output_type": "execute_result"
    }
   ],
   "source": [
    "data.keys()"
   ]
  },
  {
   "cell_type": "code",
   "execution_count": 19,
   "metadata": {},
   "outputs": [
    {
     "data": {
      "text/plain": [
       "dict_keys(['food_beverages_tobacco', 'health_medical', 'hobbies_crafts', 'home_garden', 'home_services', 'legal_services_government', 'media_publishing', 'money_insurance', 'public_local_services', 'restaurants_bars', 'shopping_fashion', 'sports', 'travel_vacation', 'utilities', 'vehicles_transportation'])"
      ]
     },
     "execution_count": 19,
     "metadata": {},
     "output_type": "execute_result"
    }
   ],
   "source": [
    "''' Fixing Data Dictionary '''\n",
    "\n",
    "company_urls.pop('Adult Entertainment', None)\n",
    "\n",
    "corrupt_data_keys = ('animals_pets', 'beauty_wellbeing', 'business_services', 'construction_manufactoring', 'education_training', 'electronics_technology', 'events_entertainment')\n",
    "for key in corrupt_data_keys:\n",
    "    data.pop(key, None)\n",
    "\n",
    "data.keys()"
   ]
  },
  {
   "cell_type": "code",
   "execution_count": null,
   "metadata": {},
   "outputs": [],
   "source": []
  }
 ],
 "metadata": {
  "kernelspec": {
   "display_name": "Python 3",
   "language": "python",
   "name": "python3"
  },
  "language_info": {
   "codemirror_mode": {
    "name": "ipython",
    "version": 3
   },
   "file_extension": ".py",
   "mimetype": "text/x-python",
   "name": "python",
   "nbconvert_exporter": "python",
   "pygments_lexer": "ipython3",
   "version": "3.7.6"
  }
 },
 "nbformat": 4,
 "nbformat_minor": 4
}
