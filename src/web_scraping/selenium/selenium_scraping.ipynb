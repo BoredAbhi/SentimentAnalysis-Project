{
 "cells": [
  {
   "cell_type": "code",
   "execution_count": 1,
   "metadata": {},
   "outputs": [],
   "source": [
    "import json\n",
    "import time"
   ]
  },
  {
   "cell_type": "code",
   "execution_count": 2,
   "metadata": {},
   "outputs": [],
   "source": [
    "from bs4 import BeautifulSoup\n",
    "import requests\n",
    "import pandas as pd"
   ]
  },
  {
   "cell_type": "code",
   "execution_count": 3,
   "metadata": {},
   "outputs": [],
   "source": [
    "from selenium import webdriver\n",
    "from selenium.common.exceptions import NoSuchElementException\n",
    "from selenium.common.exceptions import TimeoutException\n",
    "from selenium.webdriver.support.ui import WebDriverWait\n",
    "from selenium.webdriver.support import expected_conditions as EC\n",
    "from selenium.webdriver.common.by import By\n",
    "from selenium.webdriver.chrome.options import Options"
   ]
  },
  {
   "cell_type": "code",
   "execution_count": 4,
   "metadata": {},
   "outputs": [],
   "source": [
    "from tqdm import tqdm_notebook"
   ]
  },
  {
   "cell_type": "code",
   "execution_count": 5,
   "metadata": {},
   "outputs": [],
   "source": [
    "base_url = \"https://www.trustpilot.com\""
   ]
  },
  {
   "cell_type": "code",
   "execution_count": 6,
   "metadata": {},
   "outputs": [],
   "source": [
    "def get_soup(url):\n",
    "    return BeautifulSoup(requests.get(url).content, 'lxml')"
   ]
  },
  {
   "cell_type": "code",
   "execution_count": 7,
   "metadata": {},
   "outputs": [
    {
     "data": {
      "text/plain": [
       "' data will have all sub-catogaries in JSON format 👍'"
      ]
     },
     "execution_count": 7,
     "metadata": {},
     "output_type": "execute_result"
    }
   ],
   "source": [
    "data = {}\n",
    "\n",
    "soup = get_soup(base_url + '/categories')\n",
    "for category in soup.findAll('div', {'class' : 'subCategory___BRUDy'}):\n",
    "    data[category['id']] = {}\n",
    "    for sub_category in category.findAll('div', {'class' : 'subCategoryItem___3ksKz'}):\n",
    "        '''Note : .find() will search and return the first occurence but .findAll() will return all occurences'''\n",
    "        name = sub_category.find('span').text\n",
    "        link = sub_category.find('a', {'class' : 'internal___1jK0Z typography___lxzyt weight-inherit___229vl navigation___2n5P8'})['href']\n",
    "        data[category['id']][name] = link\n",
    "        \n",
    "''' data will have all sub-catogaries in JSON format 👍'''"
   ]
  },
  {
   "cell_type": "code",
   "execution_count": 8,
   "metadata": {},
   "outputs": [],
   "source": [
    "def fetch_company_urls_form_page():\n",
    "    a_list = driver.find_elements_by_xpath('//a[@class=\"internal___1jK0Z wrapper___26yB4\"]')\n",
    "    urls=[]\n",
    "    for a in a_list:\n",
    "        link = str(a.get_attribute('href'))\n",
    "        if link.startswith('https://www.trustpilot.com/review/'):\n",
    "            urls.append(link)\n",
    "    dedup_urls = list(set(urls))\n",
    "    return dedup_urls"
   ]
  },
  {
   "cell_type": "code",
   "execution_count": 9,
   "metadata": {},
   "outputs": [],
   "source": [
    "def go_next_page():\n",
    "    try:\n",
    "        button = driver.find_element_by_xpath('//a[@class=\"paginationLinkNormalize___scOgG paginationLinkNext___1LQ14\"]')\n",
    "        return True, button\n",
    "    except NoSuchElementException:\n",
    "        print('No Next Page')\n",
    "        return False, None"
   ]
  },
  {
   "cell_type": "code",
   "execution_count": 10,
   "metadata": {},
   "outputs": [],
   "source": [
    "options = Options()\n",
    "options.add_argument('--headless')\n",
    "options.add_argument('--no-sandbox')\n",
    "options.add_argument('start-maximized')\n",
    "options.add_argument('disable-infobars')\n",
    "options.add_argument(\"--disable-extensions\")\n",
    "\n",
    "prefs = {\"profile.managed_default_content_settings.images\": 2}\n",
    "options.add_experimental_option(\"prefs\", prefs)\n",
    "\n",
    "driver = webdriver.Chrome('./driver/chromedriver', options=options)\n",
    "\n",
    "timeout = 3"
   ]
  },
  {
   "cell_type": "code",
   "execution_count": 11,
   "metadata": {},
   "outputs": [],
   "source": [
    "company_urls = {}\n",
    "wrong_redirects = []"
   ]
  },
  {
   "cell_type": "code",
   "execution_count": 33,
   "metadata": {},
   "outputs": [
    {
     "name": "stderr",
     "output_type": "stream",
     "text": [
      "C:\\Users\\teeji\\anaconda3\\lib\\site-packages\\ipykernel_launcher.py:1: TqdmDeprecationWarning: This function will be removed in tqdm==5.0.0\n",
      "Please use `tqdm.notebook.tqdm` instead of `tqdm.tqdm_notebook`\n",
      "  \"\"\"Entry point for launching an IPython kernel.\n"
     ]
    },
    {
     "data": {
      "application/vnd.jupyter.widget-view+json": {
       "model_id": "8b65beb9e09d412cae33637a66b1c356",
       "version_major": 2,
       "version_minor": 0
      },
      "text/plain": [
       "HBox(children=(FloatProgress(value=0.0, max=22.0), HTML(value='')))"
      ]
     },
     "metadata": {},
     "output_type": "display_data"
    },
    {
     "name": "stderr",
     "output_type": "stream",
     "text": [
      "C:\\Users\\teeji\\anaconda3\\lib\\site-packages\\ipykernel_launcher.py:2: TqdmDeprecationWarning: This function will be removed in tqdm==5.0.0\n",
      "Please use `tqdm.notebook.tqdm` instead of `tqdm.tqdm_notebook`\n",
      "  \n"
     ]
    },
    {
     "data": {
      "application/vnd.jupyter.widget-view+json": {
       "model_id": "b7e62f057a4840fb930126207634c6df",
       "version_major": 2,
       "version_minor": 0
      },
      "text/plain": [
       "HBox(children=(FloatProgress(value=0.0, max=6.0), HTML(value='')))"
      ]
     },
     "metadata": {},
     "output_type": "display_data"
    },
    {
     "name": "stdout",
     "output_type": "stream",
     "text": [
      "Already Present :  Animal Health\n",
      "Already Present :  Animal Parks & Zoo\n",
      "Already Present :  Cats & Dogs\n",
      "Already Present :  Horses & Riding\n",
      "Already Present :  Pet Services\n",
      "Already Present :  Pet Stores\n"
     ]
    },
    {
     "data": {
      "application/vnd.jupyter.widget-view+json": {
       "model_id": "69e6741532d74fe580e42feee7b0fe82",
       "version_major": 2,
       "version_minor": 0
      },
      "text/plain": [
       "HBox(children=(FloatProgress(value=0.0, max=7.0), HTML(value='')))"
      ]
     },
     "metadata": {},
     "output_type": "display_data"
    },
    {
     "name": "stdout",
     "output_type": "stream",
     "text": [
      "Already Present :  Cosmetics & Makeup\n",
      "Already Present :  Hair Care & Styling\n",
      "Already Present :  Personal Care\n",
      "Already Present :  Salons & Clinics\n",
      "Already Present :  Tattoos & Piercings\n",
      "Already Present :  Wellness & Spa\n",
      "Already Present :  Yoga & Meditation\n"
     ]
    },
    {
     "data": {
      "application/vnd.jupyter.widget-view+json": {
       "model_id": "28a7f8c6d989403fb1aa82065d14ac5e",
       "version_major": 2,
       "version_minor": 0
      },
      "text/plain": [
       "HBox(children=(FloatProgress(value=0.0, max=11.0), HTML(value='')))"
      ]
     },
     "metadata": {},
     "output_type": "display_data"
    },
    {
     "name": "stdout",
     "output_type": "stream",
     "text": [
      "Already Present :  Administration & Services\n",
      "Already Present :  Associations & Centers\n",
      "Already Present :  HR & Recruiting\n",
      "Already Present :  IT & Communication\n",
      "Already Present :  Import & Export\n",
      "Already Present :  Office Space & Supplies\n",
      "Already Present :  Print & Graphic Design\n",
      "Already Present :  Research & Development\n",
      "Already Present :  Sales & Marketing\n",
      "Already Present :  Shipping & Logistics\n",
      "Already Present :  Wholesale\n"
     ]
    },
    {
     "data": {
      "application/vnd.jupyter.widget-view+json": {
       "model_id": "04a4eb2208364c6499162e2c53b5c51b",
       "version_major": 2,
       "version_minor": 0
      },
      "text/plain": [
       "HBox(children=(FloatProgress(value=0.0, max=11.0), HTML(value='')))"
      ]
     },
     "metadata": {},
     "output_type": "display_data"
    },
    {
     "name": "stdout",
     "output_type": "stream",
     "text": [
      "Already Present :  Architects & Engineers\n",
      "Already Present :  Building Materials\n",
      "Already Present :  Chemicals & Plastic\n",
      "Already Present :  Construction Services\n",
      "Already Present :  Contractors & Consultants\n",
      "Already Present :  Factory Equipment\n",
      "Already Present :  Garden & Landscaping\n",
      "Already Present :  Industrial Supplies\n",
      "Already Present :  Manufacturing\n",
      "Already Present :  Production Services\n",
      "Already Present :  Tools & Equipment\n"
     ]
    },
    {
     "data": {
      "application/vnd.jupyter.widget-view+json": {
       "model_id": "6e600aed82d44b99bd4ea1d19eb477c2",
       "version_major": 2,
       "version_minor": 0
      },
      "text/plain": [
       "HBox(children=(FloatProgress(value=0.0, max=8.0), HTML(value='')))"
      ]
     },
     "metadata": {},
     "output_type": "display_data"
    },
    {
     "name": "stdout",
     "output_type": "stream",
     "text": [
      "Already Present :  Colleges & Universities\n",
      "Already Present :  Courses & Classes\n",
      "Already Present :  Education Services\n",
      "Already Present :  Language Learning\n",
      "Already Present :  Music & Theater Classes\n",
      "Already Present :  School & High School\n",
      "Already Present :  Specials Schools\n",
      "Already Present :  Vocational Training\n"
     ]
    },
    {
     "data": {
      "application/vnd.jupyter.widget-view+json": {
       "model_id": "b56ae779667f483397fea38b9601c7a0",
       "version_major": 2,
       "version_minor": 0
      },
      "text/plain": [
       "HBox(children=(FloatProgress(value=0.0, max=5.0), HTML(value='')))"
      ]
     },
     "metadata": {},
     "output_type": "display_data"
    },
    {
     "name": "stdout",
     "output_type": "stream",
     "text": [
      "Already Present :  Appliances & Electronics\n",
      "Already Present :  Audio & Visual\n",
      "Already Present :  Computers & Phones\n",
      "Already Present :  Internet & Software\n",
      "Already Present :  Repair & Services\n"
     ]
    },
    {
     "data": {
      "application/vnd.jupyter.widget-view+json": {
       "model_id": "9e4d881fd0234e079e5a2ad6f301e1a1",
       "version_major": 2,
       "version_minor": 0
      },
      "text/plain": [
       "HBox(children=(FloatProgress(value=0.0, max=10.0), HTML(value='')))"
      ]
     },
     "metadata": {},
     "output_type": "display_data"
    },
    {
     "name": "stdout",
     "output_type": "stream",
     "text": [
      "Already Present :  Adult Entertainment\n",
      "Already Present :  Children's Entertainment\n",
      "Already Present :  Clubbing & Nightlife\n",
      "Already Present :  Events & Venues\n",
      "Already Present :  Gambling\n",
      "Already Present :  Gaming\n",
      "URL =  https://www.trustpilot.com/categories/museums_exibits?numberofreviews=0&timeperiod=0&status=all\n",
      "Current Sub-Category :  events_entertainment -> Museums & Exibits\n",
      "Current Page URL in Loop :  https://www.trustpilot.com/categories/museums_exibits?numberofreviews=0&timeperiod=0&status=all\n",
      "Scanned Page 1 of  Museums & Exibits URLs found :  20\n",
      "Current Page URL in Loop :  https://www.trustpilot.com/categories/museums_exibits?numberofreviews=0&timeperiod=0&status=all&page=2\n",
      "Scanned Page 2 of  Museums & Exibits URLs found :  24\n",
      "No Next Page\n",
      "URL =  https://www.trustpilot.com/categories/music_movies?numberofreviews=0&timeperiod=0&status=all\n",
      "Current Sub-Category :  events_entertainment -> Music & Movies\n",
      "Current Page URL in Loop :  https://www.trustpilot.com/categories/music_movies?numberofreviews=0&timeperiod=0&status=all\n",
      "Scanned Page 1 of  Music & Movies URLs found :  20\n",
      "Current Page URL in Loop :  https://www.trustpilot.com/categories/music_movies?numberofreviews=0&timeperiod=0&status=all&page=2\n",
      "Scanned Page 2 of  Music & Movies URLs found :  20\n",
      "Current Page URL in Loop :  https://www.trustpilot.com/categories/music_movies?numberofreviews=0&timeperiod=0&status=all&page=3\n",
      "Scanned Page 3 of  Music & Movies URLs found :  20\n",
      "Current Page URL in Loop :  https://www.trustpilot.com/categories/music_movies?numberofreviews=0&timeperiod=0&status=all&page=4\n",
      "Scanned Page 4 of  Music & Movies URLs found :  24\n",
      "No Next Page\n",
      "URL =  https://www.trustpilot.com/categories/theater_opera?numberofreviews=0&timeperiod=0&status=all\n",
      "Current Sub-Category :  events_entertainment -> Theater & Opera\n",
      "Current Page URL in Loop :  https://www.trustpilot.com/categories/theater_opera?numberofreviews=0&timeperiod=0&status=all\n",
      "Scanned Page 1 of  Theater & Opera URLs found :  2\n",
      "No Next Page\n",
      "URL =  https://www.trustpilot.com/categories/wedding_party?numberofreviews=0&timeperiod=0&status=all\n",
      "Current Sub-Category :  events_entertainment -> Wedding & Party\n",
      "Current Page URL in Loop :  https://www.trustpilot.com/categories/wedding_party?numberofreviews=0&timeperiod=0&status=all\n",
      "Scanned Page 1 of  Wedding & Party URLs found :  20\n",
      "Current Page URL in Loop :  https://www.trustpilot.com/categories/wedding_party?numberofreviews=0&timeperiod=0&status=all&page=2\n",
      "Scanned Page 2 of  Wedding & Party URLs found :  20\n",
      "Current Page URL in Loop :  https://www.trustpilot.com/categories/wedding_party?numberofreviews=0&timeperiod=0&status=all&page=3\n",
      "Scanned Page 3 of  Wedding & Party URLs found :  20\n",
      "Current Page URL in Loop :  https://www.trustpilot.com/categories/wedding_party?numberofreviews=0&timeperiod=0&status=all&page=4\n",
      "Scanned Page 4 of  Wedding & Party URLs found :  20\n",
      "Current Page URL in Loop :  https://www.trustpilot.com/categories/wedding_party?numberofreviews=0&timeperiod=0&status=all&page=5\n",
      "Scanned Page 5 of  Wedding & Party URLs found :  20\n",
      "Current Page URL in Loop :  https://www.trustpilot.com/categories/wedding_party?numberofreviews=0&timeperiod=0&status=all&page=6\n",
      "Scanned Page 6 of  Wedding & Party URLs found :  20\n",
      "Current Page URL in Loop :  https://www.trustpilot.com/categories/wedding_party?numberofreviews=0&timeperiod=0&status=all&page=7\n",
      "Scanned Page 7 of  Wedding & Party URLs found :  20\n",
      "Current Page URL in Loop :  https://www.trustpilot.com/categories/wedding_party?numberofreviews=0&timeperiod=0&status=all&page=8\n",
      "Scanned Page 8 of  Wedding & Party URLs found :  20\n",
      "Current Page URL in Loop :  https://www.trustpilot.com/categories/wedding_party?numberofreviews=0&timeperiod=0&status=all&page=9\n",
      "Scanned Page 9 of  Wedding & Party URLs found :  20\n",
      "Current Page URL in Loop :  https://www.trustpilot.com/categories/wedding_party?numberofreviews=0&timeperiod=0&status=all&page=10\n",
      "Scanned Page 10 of  Wedding & Party URLs found :  20\n",
      "Current Page URL in Loop :  https://www.trustpilot.com/categories/wedding_party?numberofreviews=0&timeperiod=0&status=all&page=11\n",
      "Scanned Page 11 of  Wedding & Party URLs found :  20\n",
      "Current Page URL in Loop :  https://www.trustpilot.com/categories/wedding_party?numberofreviews=0&timeperiod=0&status=all&page=12\n",
      "Scanned Page 12 of  Wedding & Party URLs found :  24\n",
      "No Next Page\n"
     ]
    },
    {
     "data": {
      "application/vnd.jupyter.widget-view+json": {
       "model_id": "8f683c0c7cff46b397c0a38ae60f28cf",
       "version_major": 2,
       "version_minor": 0
      },
      "text/plain": [
       "HBox(children=(FloatProgress(value=0.0, max=15.0), HTML(value='')))"
      ]
     },
     "metadata": {},
     "output_type": "display_data"
    },
    {
     "name": "stdout",
     "output_type": "stream",
     "text": [
      "Already Present :  Agriculture & Produce\n",
      "Already Present :  Asian Grocery Stores\n",
      "Already Present :  Bakery & Pastry\n",
      "Already Present :  Beer & Wine\n",
      "Already Present :  Beverages & Liquor\n",
      "Already Present :  Butcher\n",
      "Already Present :  Candy & Chocolate\n",
      "Already Present :  Coffee & Tea\n",
      "Already Present :  Food Production\n",
      "Already Present :  Fruits & Vegetables\n",
      "Already Present :  Grocery Stores & Markets\n",
      "Already Present :  Lunch & Catering\n",
      "Already Present :  Meat, Seafood & Eggs\n",
      "Already Present :  Smoking & Tobacco\n",
      "Already Present :  Tobacco Store\n"
     ]
    },
    {
     "data": {
      "application/vnd.jupyter.widget-view+json": {
       "model_id": "aa41ede290e5409098733da59417687a",
       "version_major": 2,
       "version_minor": 0
      },
      "text/plain": [
       "HBox(children=(FloatProgress(value=0.0, max=13.0), HTML(value='')))"
      ]
     },
     "metadata": {},
     "output_type": "display_data"
    },
    {
     "name": "stdout",
     "output_type": "stream",
     "text": [
      "Already Present :  Clinics\n",
      "Already Present :  Dental Services\n",
      "Already Present :  Diagnostics & Testing\n",
      "Already Present :  Doctors & Surgeons\n",
      "Already Present :  Health Equipment\n",
      "Already Present :  Hospital & Emergency\n",
      "Already Present :  Medical Specialists\n",
      "Already Present :  Mental Health\n",
      "Already Present :  Pharmacy & Medicine\n",
      "Already Present :  Physical Aids\n",
      "Already Present :  Pregnancy & Children\n",
      "Already Present :  Therapy & Senior Health\n",
      "Already Present :  Vision & Hearing\n"
     ]
    },
    {
     "data": {
      "application/vnd.jupyter.widget-view+json": {
       "model_id": "87513e46f7b44e178087322e3b3a0081",
       "version_major": 2,
       "version_minor": 0
      },
      "text/plain": [
       "HBox(children=(FloatProgress(value=0.0, max=9.0), HTML(value='')))"
      ]
     },
     "metadata": {},
     "output_type": "display_data"
    },
    {
     "name": "stdout",
     "output_type": "stream",
     "text": [
      "Already Present :  Art & Handicraft\n",
      "Already Present :  Astrology & Numerology\n",
      "Already Present :  Fishing & Hunting\n",
      "Already Present :  Hobbies\n",
      "Already Present :  Metal, Stone & Glass Work\n",
      "Already Present :  Music & Instruments\n",
      "Already Present :  Needlework & Knitting\n",
      "Already Present :  Outdoor Activities\n",
      "Already Present :  Painting & Paper\n"
     ]
    },
    {
     "data": {
      "application/vnd.jupyter.widget-view+json": {
       "model_id": "a5d9fd1eff814b36b53e05a79c0a24f2",
       "version_major": 2,
       "version_minor": 0
      },
      "text/plain": [
       "HBox(children=(FloatProgress(value=0.0, max=10.0), HTML(value='')))"
      ]
     },
     "metadata": {},
     "output_type": "display_data"
    },
    {
     "name": "stdout",
     "output_type": "stream",
     "text": [
      "Already Present :  Bathroom & Kitchen\n",
      "Already Present :  Cultural Goods\n",
      "Already Present :  Decoration & Interior\n",
      "Already Present :  Energy & Heating\n",
      "Already Present :  Fabric & Stationery\n",
      "Already Present :  Furniture Stores\n",
      "Already Present :  Garden & Pond\n",
      "Already Present :  Home & Garden Services\n",
      "Already Present :  Home Goods Stores\n",
      "Already Present :  Home Improvements\n"
     ]
    },
    {
     "data": {
      "application/vnd.jupyter.widget-view+json": {
       "model_id": "4d15597634704336bb137ea24ef2e98b",
       "version_major": 2,
       "version_minor": 0
      },
      "text/plain": [
       "HBox(children=(FloatProgress(value=0.0, max=7.0), HTML(value='')))"
      ]
     },
     "metadata": {},
     "output_type": "display_data"
    },
    {
     "name": "stdout",
     "output_type": "stream",
     "text": [
      "Already Present :  Cleaning Service Providers\n",
      "Already Present :  Craftsman\n",
      "Already Present :  House Services\n",
      "Already Present :  House Sitting & Security\n",
      "Already Present :  Moving & Storage\n",
      "Already Present :  Plumbing & Sanitation\n",
      "Already Present :  Repair Service Providers\n"
     ]
    },
    {
     "data": {
      "application/vnd.jupyter.widget-view+json": {
       "model_id": "dfa60d923ce04d3c9b5f5c1627613419",
       "version_major": 2,
       "version_minor": 0
      },
      "text/plain": [
       "HBox(children=(FloatProgress(value=0.0, max=8.0), HTML(value='')))"
      ]
     },
     "metadata": {},
     "output_type": "display_data"
    },
    {
     "name": "stdout",
     "output_type": "stream",
     "text": [
      "Already Present :  Customs & Toll\n",
      "Already Present :  Government Department\n",
      "Already Present :  Law Enforcement\n",
      "Already Present :  Lawyers & Attorneys\n",
      "Already Present :  Legal Service Providers\n",
      "Already Present :  Libraries & Archives\n",
      "Already Present :  Municipal Department\n",
      "Already Present :  Registration Services\n"
     ]
    },
    {
     "data": {
      "application/vnd.jupyter.widget-view+json": {
       "model_id": "8c20b286276f4ee9be68c14ff9e65a0d",
       "version_major": 2,
       "version_minor": 0
      },
      "text/plain": [
       "HBox(children=(FloatProgress(value=0.0, max=4.0), HTML(value='')))"
      ]
     },
     "metadata": {},
     "output_type": "display_data"
    },
    {
     "name": "stdout",
     "output_type": "stream",
     "text": [
      "Already Present :  Books & Magazines\n",
      "Already Present :  Media & Information\n",
      "Already Present :  Photography\n",
      "Already Present :  Video & Sound\n"
     ]
    },
    {
     "data": {
      "application/vnd.jupyter.widget-view+json": {
       "model_id": "7d7efb803851445eb55c67c24edc86b2",
       "version_major": 2,
       "version_minor": 0
      },
      "text/plain": [
       "HBox(children=(FloatProgress(value=0.0, max=6.0), HTML(value='')))"
      ]
     },
     "metadata": {},
     "output_type": "display_data"
    },
    {
     "name": "stdout",
     "output_type": "stream",
     "text": [
      "Already Present :  Accounting & Tax\n",
      "Already Present :  Banking & Money\n",
      "Already Present :  Credit & Debt Services\n",
      "Already Present :  Insurance\n",
      "Already Present :  Investments & Wealth\n",
      "Already Present :  Real Estate\n"
     ]
    },
    {
     "data": {
      "application/vnd.jupyter.widget-view+json": {
       "model_id": "7d2a4a337cc34691b67e622b2c9c393d",
       "version_major": 2,
       "version_minor": 0
      },
      "text/plain": [
       "HBox(children=(FloatProgress(value=0.0, max=11.0), HTML(value='')))"
      ]
     },
     "metadata": {},
     "output_type": "display_data"
    },
    {
     "name": "stdout",
     "output_type": "stream",
     "text": [
      "Already Present :  Employment & Career\n",
      "Already Present :  Funeral & Memorial\n",
      "Already Present :  Housing Associations\n",
      "Already Present :  Kids & Family\n",
      "Already Present :  Military & Veteran\n",
      "Already Present :  Nature & Environment\n",
      "Already Present :  Professional Organizations\n",
      "Already Present :  Public Services & Welfare\n",
      "Already Present :  Religious Institutions\n",
      "Already Present :  Shelters & Homes\n",
      "Already Present :  Waste Management\n"
     ]
    },
    {
     "data": {
      "application/vnd.jupyter.widget-view+json": {
       "model_id": "31d353c7e8514db49b77c5d94e6043bb",
       "version_major": 2,
       "version_minor": 0
      },
      "text/plain": [
       "HBox(children=(FloatProgress(value=0.0, max=9.0), HTML(value='')))"
      ]
     },
     "metadata": {},
     "output_type": "display_data"
    },
    {
     "name": "stdout",
     "output_type": "stream",
     "text": [
      "Already Present :  Bars & Cafes\n",
      "Already Present :  European Cuisine\n",
      "Already Present :  General Restaurants\n",
      "Already Present :  Mediterranean Cuisine\n",
      "Already Present :  Middle Eastern Cuisine\n",
      "Already Present :  North & South American Cuisine\n",
      "Already Present :  Southeast Asian Cuisine\n",
      "Already Present :  Takeaway\n",
      "Already Present :  Vegetarian & Diet\n"
     ]
    },
    {
     "data": {
      "application/vnd.jupyter.widget-view+json": {
       "model_id": "0e85e6495bcd46cbb32e24da4e8edde9",
       "version_major": 2,
       "version_minor": 0
      },
      "text/plain": [
       "HBox(children=(FloatProgress(value=0.0, max=6.0), HTML(value='')))"
      ]
     },
     "metadata": {},
     "output_type": "display_data"
    },
    {
     "name": "stdout",
     "output_type": "stream",
     "text": [
      "Already Present :  Accessories\n",
      "Already Present :  Clothing & Underwear\n",
      "Already Present :  Clothing Rental & Repair\n",
      "Already Present :  Costume & Wedding\n",
      "Already Present :  Jewelry & Watches\n",
      "Already Present :  Malls & Marketplaces\n"
     ]
    },
    {
     "data": {
      "application/vnd.jupyter.widget-view+json": {
       "model_id": "03739569f82f4f9bab761a2de0ea537d",
       "version_major": 2,
       "version_minor": 0
      },
      "text/plain": [
       "HBox(children=(FloatProgress(value=0.0, max=14.0), HTML(value='')))"
      ]
     },
     "metadata": {},
     "output_type": "display_data"
    },
    {
     "name": "stdout",
     "output_type": "stream",
     "text": [
      "Already Present :  Ball Games\n",
      "Already Present :  Bat-and-ball Games\n",
      "Already Present :  Bowls & Lawn Sports\n",
      "Already Present :  Dancing & Gymnastics\n",
      "Already Present :  Equipment & Associations\n",
      "Already Present :  Extreme Sports\n",
      "Already Present :  Fitness & Weight Lifting\n",
      "Already Present :  Golf & Ultimate\n",
      "Already Present :  Hockey & Ice Skating\n",
      "Already Present :  Martial arts & Wrestling\n",
      "Already Present :  Outdoor & Winter Sports\n",
      "Already Present :  Shooting & Target Sports\n",
      "Already Present :  Swimming & Water Sports\n",
      "Already Present :  Tennis & Racquet Sports\n"
     ]
    },
    {
     "data": {
      "application/vnd.jupyter.widget-view+json": {
       "model_id": "904d4108b72e4ce6a2f20df1101f6539",
       "version_major": 2,
       "version_minor": 0
      },
      "text/plain": [
       "HBox(children=(FloatProgress(value=0.0, max=5.0), HTML(value='')))"
      ]
     },
     "metadata": {},
     "output_type": "display_data"
    },
    {
     "name": "stdout",
     "output_type": "stream",
     "text": [
      "Already Present :  Accommodation & Lodging\n",
      "Already Present :  Activities & Tours\n",
      "Already Present :  Airlines & Air Travel\n",
      "Already Present :  Hotels\n",
      "Already Present :  Travel Agencies\n"
     ]
    },
    {
     "data": {
      "application/vnd.jupyter.widget-view+json": {
       "model_id": "1aca00d35ed74568949ee49559d23019",
       "version_major": 2,
       "version_minor": 0
      },
      "text/plain": [
       "HBox(children=(FloatProgress(value=0.0, max=2.0), HTML(value='')))"
      ]
     },
     "metadata": {},
     "output_type": "display_data"
    },
    {
     "name": "stdout",
     "output_type": "stream",
     "text": [
      "Already Present :  Energy & Power\n",
      "Already Present :  Water Utilities\n"
     ]
    },
    {
     "data": {
      "application/vnd.jupyter.widget-view+json": {
       "model_id": "4c2a57a5196f426583b0d489ff162093",
       "version_major": 2,
       "version_minor": 0
      },
      "text/plain": [
       "HBox(children=(FloatProgress(value=0.0, max=10.0), HTML(value='')))"
      ]
     },
     "metadata": {},
     "output_type": "display_data"
    },
    {
     "name": "stdout",
     "output_type": "stream",
     "text": [
      "Already Present :  Air & Water Transport\n",
      "Already Present :  Airports & Parking\n",
      "Already Present :  Auto Parts & Wheels\n",
      "Already Present :  Bicycles\n",
      "Already Present :  Cars & Trucks\n",
      "Already Present :  Motorcycle & Powersports\n",
      "Already Present :  Other Vehicles & Trailers\n",
      "Already Present :  Taxis & Public Transport\n",
      "Already Present :  Vehical Rental\n",
      "Already Present :  Vehicle Repair & Fuel\n",
      "\n"
     ]
    }
   ],
   "source": [
    "for category in tqdm_notebook(data):\n",
    "    for sub_category in tqdm_notebook(data[category], leave=False):\n",
    "        \n",
    "        ''' 0. Checking if sub-category already present. Useful in case of power faliure and re-running of this cell '''\n",
    "        \n",
    "        if ((sub_category in company_urls) and (company_urls[sub_category] != '')):\n",
    "            print('Already Present : ', sub_category)\n",
    "            continue\n",
    "        else:\n",
    "            company_urls[sub_category] = []\n",
    "        \n",
    "        ''' 1. Fetching URLs for each sub-category '''\n",
    "        \n",
    "        url = base_url + data[category][sub_category] + \"?numberofreviews=0&timeperiod=0&status=all\"\n",
    "        print('URL = ',url)\n",
    "        \n",
    "        ''' 2. Printing Info '''\n",
    "        \n",
    "        print (\"Current Sub-Category : \", category, '->', sub_category)\n",
    "        driver.get(url)\n",
    "        current_url = driver.current_url\n",
    "        \n",
    "        ''' 3. Checking for bad URL redirects '''\n",
    "        \n",
    "        if (url != current_url):\n",
    "            print('Pre URL : ', url, '\\nRedirected URL : ', current_url)\n",
    "            wrong_redirects.append(sub_category)\n",
    "            print('Bad URL redirect with : ', sub_category)\n",
    "            break\n",
    "            \n",
    "        ''' 4. Check if current page has URLs for companies, else continue to next sub-category '''            \n",
    "        try: \n",
    "            element_present = EC.presence_of_element_located(\n",
    "                (By.CLASS_NAME, 'businessUnitCardsContainer___Qhix1'))\n",
    "            WebDriverWait(driver, timeout).until(element_present)\n",
    "        except:\n",
    "            pass\n",
    "        \n",
    "        ''' 5. Add all review links in page to list '''   \n",
    "        \n",
    "        next_page = True\n",
    "        count = 1\n",
    "        \n",
    "        while next_page:\n",
    "            print('Current Page URL in Loop : ', driver.current_url)\n",
    "            extracted_company_urls = fetch_company_urls_form_page()\n",
    "            print(\"Scanned Page\", count, \"of \", sub_category, \"URLs found : \", len(extracted_company_urls))\n",
    "            company_urls[sub_category] += extracted_company_urls\n",
    "            next_page, button = go_next_page()\n",
    "            \n",
    "            if next_page:\n",
    "                count += 1\n",
    "                next_url = base_url + data[category][sub_category] + \"?numberofreviews=0&timeperiod=0&status=all\" + f'&page={count}'\n",
    "                driver.get(next_url)\n",
    "                try: \n",
    "                    element_present = EC.presence_of_element_located(\n",
    "                        (By.CLASS_NAME, 'businessUnitCardsContainer___Qhix1'))\n",
    "                    WebDriverWait(driver, timeout).until(element_present)\n",
    "                except:\n",
    "                    print('No next page left')\n",
    "                    pass"
   ]
  },
  {
   "cell_type": "code",
   "execution_count": 34,
   "metadata": {},
   "outputs": [
    {
     "data": {
      "text/plain": [
       "dict_keys(['Animal Health', 'Animal Parks & Zoo', 'Cats & Dogs', 'Horses & Riding', 'Pet Services', 'Pet Stores', 'Cosmetics & Makeup', 'Hair Care & Styling', 'Personal Care', 'Salons & Clinics', 'Tattoos & Piercings', 'Wellness & Spa', 'Yoga & Meditation', 'Administration & Services', 'Associations & Centers', 'HR & Recruiting', 'IT & Communication', 'Import & Export', 'Office Space & Supplies', 'Print & Graphic Design', 'Research & Development', 'Sales & Marketing', 'Shipping & Logistics', 'Wholesale', 'Architects & Engineers', 'Building Materials', 'Chemicals & Plastic', 'Construction Services', 'Contractors & Consultants', 'Factory Equipment', 'Garden & Landscaping', 'Industrial Supplies', 'Manufacturing', 'Production Services', 'Tools & Equipment', 'Colleges & Universities', 'Courses & Classes', 'Education Services', 'Language Learning', 'Music & Theater Classes', 'School & High School', 'Specials Schools', 'Vocational Training', 'Appliances & Electronics', 'Audio & Visual', 'Computers & Phones', 'Internet & Software', 'Repair & Services', 'Adult Entertainment', \"Children's Entertainment\", 'Clubbing & Nightlife', 'Events & Venues', 'Agriculture & Produce', 'Asian Grocery Stores', 'Bakery & Pastry', 'Beer & Wine', 'Beverages & Liquor', 'Clinics', 'Dental Services', 'Diagnostics & Testing', 'Doctors & Surgeons', 'Health Equipment', 'Hospital & Emergency', 'Medical Specialists', 'Mental Health', 'Pharmacy & Medicine', 'Physical Aids', 'Pregnancy & Children', 'Therapy & Senior Health', 'Vision & Hearing', 'Art & Handicraft', 'Astrology & Numerology', 'Fishing & Hunting', 'Hobbies', 'Metal, Stone & Glass Work', 'Music & Instruments', 'Needlework & Knitting', 'Outdoor Activities', 'Painting & Paper', 'Bathroom & Kitchen', 'Cultural Goods', 'Decoration & Interior', 'Energy & Heating', 'Fabric & Stationery', 'Furniture Stores', 'Garden & Pond', 'Home & Garden Services', 'Home Goods Stores', 'Home Improvements', 'Cleaning Service Providers', 'Craftsman', 'House Services', 'House Sitting & Security', 'Moving & Storage', 'Plumbing & Sanitation', 'Repair Service Providers', 'Customs & Toll', 'Government Department', 'Law Enforcement', 'Lawyers & Attorneys', 'Legal Service Providers', 'Libraries & Archives', 'Municipal Department', 'Registration Services', 'Books & Magazines', 'Media & Information', 'Photography', 'Video & Sound', 'Accounting & Tax', 'Banking & Money', 'Credit & Debt Services', 'Insurance', 'Investments & Wealth', 'Real Estate', 'Employment & Career', 'Funeral & Memorial', 'Housing Associations', 'Kids & Family', 'Military & Veteran', 'Nature & Environment', 'Professional Organizations', 'Public Services & Welfare', 'Religious Institutions', 'Shelters & Homes', 'Waste Management', 'Bars & Cafes', 'European Cuisine', 'General Restaurants', 'Mediterranean Cuisine', 'Middle Eastern Cuisine', 'North & South American Cuisine', 'Southeast Asian Cuisine', 'Takeaway', 'Vegetarian & Diet', 'Accessories', 'Clothing & Underwear', 'Clothing Rental & Repair', 'Costume & Wedding', 'Jewelry & Watches', 'Malls & Marketplaces', 'Ball Games', 'Bat-and-ball Games', 'Bowls & Lawn Sports', 'Dancing & Gymnastics', 'Equipment & Associations', 'Extreme Sports', 'Fitness & Weight Lifting', 'Golf & Ultimate', 'Hockey & Ice Skating', 'Martial arts & Wrestling', 'Outdoor & Winter Sports', 'Shooting & Target Sports', 'Swimming & Water Sports', 'Tennis & Racquet Sports', 'Accommodation & Lodging', 'Activities & Tours', 'Airlines & Air Travel', 'Energy & Power', 'Water Utilities', 'Air & Water Transport', 'Airports & Parking', 'Auto Parts & Wheels', 'Gambling', 'Butcher', 'Hotels', 'Bicycles', 'Gaming', 'Candy & Chocolate', 'Coffee & Tea', 'Food Production', 'Fruits & Vegetables', 'Grocery Stores & Markets', 'Lunch & Catering', 'Meat, Seafood & Eggs', 'Smoking & Tobacco', 'Tobacco Store', 'Travel Agencies', 'Cars & Trucks', 'Motorcycle & Powersports', 'Other Vehicles & Trailers', 'Taxis & Public Transport', 'Vehical Rental', 'Vehicle Repair & Fuel', 'Museums & Exibits', 'Music & Movies', 'Theater & Opera', 'Wedding & Party'])"
      ]
     },
     "execution_count": 34,
     "metadata": {},
     "output_type": "execute_result"
    }
   ],
   "source": [
    "''' Checking list of keys '''\n",
    "company_urls.keys()"
   ]
  },
  {
   "cell_type": "code",
   "execution_count": 35,
   "metadata": {},
   "outputs": [
    {
     "name": "stdout",
     "output_type": "stream",
     "text": [
      "['Gambling', 'Butcher', 'Hotels', 'Bicycles', 'Gaming', 'Travel Agencies']\n"
     ]
    }
   ],
   "source": [
    "print(wrong_redirects)"
   ]
  },
  {
   "cell_type": "code",
   "execution_count": 23,
   "metadata": {},
   "outputs": [
    {
     "data": {
      "text/plain": [
       "' Re-run the above cell [12] to fix breakage due to wrong redirects. We will let go of the reviews for these sub-categories for now 😿 '"
      ]
     },
     "execution_count": 23,
     "metadata": {},
     "output_type": "execute_result"
    }
   ],
   "source": [
    "''' Re-run the above cell [12] to fix breakage due to wrong redirects. We will let go of the reviews for these sub-categories for now 😿 '''"
   ]
  },
  {
   "cell_type": "code",
   "execution_count": null,
   "metadata": {},
   "outputs": [],
   "source": [
    "''' Saving all the scraped data in dataframe '''\n",
    "\n",
    "consolidated_data = []\n",
    "\n",
    "for category in data:\n",
    "    for sub_category in data[category]:\n",
    "        for url in company_urls[sub_category]:\n",
    "            consolidated_data.append((category, sub_category, url))\n",
    "\n",
    "df_consolidated_data = pd.DataFrame(consolidated_data, columns=['category', 'sub_category', 'company_url'])\n",
    "\n",
    "df_consolidated_data.to_csv('./exports/consolidate_company_urls.csv', index=False)"
   ]
  },
  {
   "cell_type": "code",
   "execution_count": 38,
   "metadata": {},
   "outputs": [
    {
     "data": {
      "text/html": [
       "<div>\n",
       "<style scoped>\n",
       "    .dataframe tbody tr th:only-of-type {\n",
       "        vertical-align: middle;\n",
       "    }\n",
       "\n",
       "    .dataframe tbody tr th {\n",
       "        vertical-align: top;\n",
       "    }\n",
       "\n",
       "    .dataframe thead th {\n",
       "        text-align: right;\n",
       "    }\n",
       "</style>\n",
       "<table border=\"1\" class=\"dataframe\">\n",
       "  <thead>\n",
       "    <tr style=\"text-align: right;\">\n",
       "      <th></th>\n",
       "      <th>category</th>\n",
       "      <th>sub_category</th>\n",
       "      <th>company_url</th>\n",
       "    </tr>\n",
       "  </thead>\n",
       "  <tbody>\n",
       "    <tr>\n",
       "      <th>0</th>\n",
       "      <td>animals_pets</td>\n",
       "      <td>Animal Health</td>\n",
       "      <td>https://www.trustpilot.com/review/www.vetappro...</td>\n",
       "    </tr>\n",
       "    <tr>\n",
       "      <th>1</th>\n",
       "      <td>animals_pets</td>\n",
       "      <td>Animal Health</td>\n",
       "      <td>https://www.trustpilot.com/review/gallant.com</td>\n",
       "    </tr>\n",
       "    <tr>\n",
       "      <th>2</th>\n",
       "      <td>animals_pets</td>\n",
       "      <td>Animal Health</td>\n",
       "      <td>https://www.trustpilot.com/review/www.mosaicti...</td>\n",
       "    </tr>\n",
       "    <tr>\n",
       "      <th>3</th>\n",
       "      <td>animals_pets</td>\n",
       "      <td>Animal Health</td>\n",
       "      <td>https://www.trustpilot.com/review/vetpetni.co.uk</td>\n",
       "    </tr>\n",
       "    <tr>\n",
       "      <th>4</th>\n",
       "      <td>animals_pets</td>\n",
       "      <td>Animal Health</td>\n",
       "      <td>https://www.trustpilot.com/review/caninehealth...</td>\n",
       "    </tr>\n",
       "  </tbody>\n",
       "</table>\n",
       "</div>"
      ],
      "text/plain": [
       "       category   sub_category  \\\n",
       "0  animals_pets  Animal Health   \n",
       "1  animals_pets  Animal Health   \n",
       "2  animals_pets  Animal Health   \n",
       "3  animals_pets  Animal Health   \n",
       "4  animals_pets  Animal Health   \n",
       "\n",
       "                                         company_url  \n",
       "0  https://www.trustpilot.com/review/www.vetappro...  \n",
       "1      https://www.trustpilot.com/review/gallant.com  \n",
       "2  https://www.trustpilot.com/review/www.mosaicti...  \n",
       "3   https://www.trustpilot.com/review/vetpetni.co.uk  \n",
       "4  https://www.trustpilot.com/review/caninehealth...  "
      ]
     },
     "execution_count": 38,
     "metadata": {},
     "output_type": "execute_result"
    }
   ],
   "source": [
    "''' checking our dataframe '''\n",
    "\n",
    "df_consolidated_data.head()"
   ]
  },
  {
   "cell_type": "code",
   "execution_count": null,
   "metadata": {},
   "outputs": [],
   "source": [
    "conda install -c conda-forge scrapy"
   ]
  },
  {
   "cell_type": "code",
   "execution_count": null,
   "metadata": {},
   "outputs": [],
   "source": []
  }
 ],
 "metadata": {
  "kernelspec": {
   "display_name": "Python 3",
   "language": "python",
   "name": "python3"
  },
  "language_info": {
   "codemirror_mode": {
    "name": "ipython",
    "version": 3
   },
   "file_extension": ".py",
   "mimetype": "text/x-python",
   "name": "python",
   "nbconvert_exporter": "python",
   "pygments_lexer": "ipython3",
   "version": "3.7.6"
  }
 },
 "nbformat": 4,
 "nbformat_minor": 4
}
