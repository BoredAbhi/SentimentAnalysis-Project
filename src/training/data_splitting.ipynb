{
 "cells": [
  {
   "cell_type": "code",
   "execution_count": 1,
   "metadata": {},
   "outputs": [],
   "source": [
    "import numpy as np\n",
    "import pandas as pd\n",
    "from sklearn.model_selection import train_test_split"
   ]
  },
  {
   "cell_type": "code",
   "execution_count": 2,
   "metadata": {},
   "outputs": [
    {
     "data": {
      "text/plain": [
       "'C:\\\\Users\\\\teeji\\\\Git Projects\\\\SentimentAnalysis-Project\\\\src\\\\web_scraping\\\\selenium'"
      ]
     },
     "execution_count": 2,
     "metadata": {},
     "output_type": "execute_result"
    }
   ],
   "source": [
    "pwd()"
   ]
  },
  {
   "cell_type": "code",
   "execution_count": 3,
   "metadata": {},
   "outputs": [],
   "source": [
    "import os \n",
    "os.chdir ('C:\\\\Users\\\\teeji\\\\Git Projects\\\\SentimentAnalysis-Project\\\\training')"
   ]
  },
  {
   "cell_type": "code",
   "execution_count": 4,
   "metadata": {},
   "outputs": [],
   "source": [
    "scraped_data = pd.read_csv('..\\\\src\\\\web_scraping\\\\scrapy\\\\trustpilot\\\\comments_trustpilot_en1.csv')"
   ]
  },
  {
   "cell_type": "code",
   "execution_count": 6,
   "metadata": {},
   "outputs": [
    {
     "data": {
      "text/plain": [
       "Index(['comment', 'rating', 'url_website', 'company_name', 'company_website',\n",
       "       'company_logo'],\n",
       "      dtype='object')"
      ]
     },
     "execution_count": 6,
     "metadata": {},
     "output_type": "execute_result"
    }
   ],
   "source": [
    "scraped_data.columns"
   ]
  },
  {
   "cell_type": "code",
   "execution_count": 7,
   "metadata": {},
   "outputs": [
    {
     "data": {
      "text/html": [
       "<div>\n",
       "<style scoped>\n",
       "    .dataframe tbody tr th:only-of-type {\n",
       "        vertical-align: middle;\n",
       "    }\n",
       "\n",
       "    .dataframe tbody tr th {\n",
       "        vertical-align: top;\n",
       "    }\n",
       "\n",
       "    .dataframe thead th {\n",
       "        text-align: right;\n",
       "    }\n",
       "</style>\n",
       "<table border=\"1\" class=\"dataframe\">\n",
       "  <thead>\n",
       "    <tr style=\"text-align: right;\">\n",
       "      <th></th>\n",
       "      <th>comment</th>\n",
       "      <th>rating</th>\n",
       "      <th>url_website</th>\n",
       "      <th>company_name</th>\n",
       "      <th>company_website</th>\n",
       "      <th>company_logo</th>\n",
       "    </tr>\n",
       "  </thead>\n",
       "  <tbody>\n",
       "    <tr>\n",
       "      <th>0</th>\n",
       "      <td>I found about Greatvet a couple of months ago....</td>\n",
       "      <td>5</td>\n",
       "      <td>https://www.trustpilot.com/review/www.greatvet...</td>\n",
       "      <td>Greatvet</td>\n",
       "      <td>www.greatvet.com</td>\n",
       "      <td>//s3-eu-west-1.amazonaws.com/tpd/logos/5f189c2...</td>\n",
       "    </tr>\n",
       "    <tr>\n",
       "      <th>1</th>\n",
       "      <td>Our fur babies give us so much. This is someth...</td>\n",
       "      <td>5</td>\n",
       "      <td>https://www.trustpilot.com/review/gallant.com</td>\n",
       "      <td>Gallant</td>\n",
       "      <td>gallant.com</td>\n",
       "      <td>//s3-eu-west-1.amazonaws.com/tpd/screenshots/5...</td>\n",
       "    </tr>\n",
       "    <tr>\n",
       "      <th>2</th>\n",
       "      <td>This process from beginning to end has been a ...</td>\n",
       "      <td>5</td>\n",
       "      <td>https://www.trustpilot.com/review/gallant.com</td>\n",
       "      <td>Gallant</td>\n",
       "      <td>gallant.com</td>\n",
       "      <td>//s3-eu-west-1.amazonaws.com/tpd/screenshots/5...</td>\n",
       "    </tr>\n",
       "    <tr>\n",
       "      <th>3</th>\n",
       "      <td>Super easy company to work with. Always availa...</td>\n",
       "      <td>5</td>\n",
       "      <td>https://www.trustpilot.com/review/gallant.com</td>\n",
       "      <td>Gallant</td>\n",
       "      <td>gallant.com</td>\n",
       "      <td>//s3-eu-west-1.amazonaws.com/tpd/screenshots/5...</td>\n",
       "    </tr>\n",
       "    <tr>\n",
       "      <th>4</th>\n",
       "      <td>Great Customer Service! Super quick retrieval ...</td>\n",
       "      <td>5</td>\n",
       "      <td>https://www.trustpilot.com/review/gallant.com</td>\n",
       "      <td>Gallant</td>\n",
       "      <td>gallant.com</td>\n",
       "      <td>//s3-eu-west-1.amazonaws.com/tpd/screenshots/5...</td>\n",
       "    </tr>\n",
       "  </tbody>\n",
       "</table>\n",
       "</div>"
      ],
      "text/plain": [
       "                                             comment  rating  \\\n",
       "0  I found about Greatvet a couple of months ago....       5   \n",
       "1  Our fur babies give us so much. This is someth...       5   \n",
       "2  This process from beginning to end has been a ...       5   \n",
       "3  Super easy company to work with. Always availa...       5   \n",
       "4  Great Customer Service! Super quick retrieval ...       5   \n",
       "\n",
       "                                         url_website company_name  \\\n",
       "0  https://www.trustpilot.com/review/www.greatvet...     Greatvet   \n",
       "1      https://www.trustpilot.com/review/gallant.com      Gallant   \n",
       "2      https://www.trustpilot.com/review/gallant.com      Gallant   \n",
       "3      https://www.trustpilot.com/review/gallant.com      Gallant   \n",
       "4      https://www.trustpilot.com/review/gallant.com      Gallant   \n",
       "\n",
       "    company_website                                       company_logo  \n",
       "0  www.greatvet.com  //s3-eu-west-1.amazonaws.com/tpd/logos/5f189c2...  \n",
       "1       gallant.com  //s3-eu-west-1.amazonaws.com/tpd/screenshots/5...  \n",
       "2       gallant.com  //s3-eu-west-1.amazonaws.com/tpd/screenshots/5...  \n",
       "3       gallant.com  //s3-eu-west-1.amazonaws.com/tpd/screenshots/5...  \n",
       "4       gallant.com  //s3-eu-west-1.amazonaws.com/tpd/screenshots/5...  "
      ]
     },
     "execution_count": 7,
     "metadata": {},
     "output_type": "execute_result"
    }
   ],
   "source": [
    "scraped_data.head()"
   ]
  },
  {
   "cell_type": "code",
   "execution_count": null,
   "metadata": {},
   "outputs": [],
   "source": []
  },
  {
   "cell_type": "code",
   "execution_count": null,
   "metadata": {},
   "outputs": [],
   "source": [
    "X_train, X_test, y_train, y_test = model_selection.train_test_split(X, y, train_size=0.65,test_size=0.35, random_state=101)"
   ]
  }
 ],
 "metadata": {
  "kernelspec": {
   "display_name": "Python 3",
   "language": "python",
   "name": "python3"
  },
  "language_info": {
   "codemirror_mode": {
    "name": "ipython",
    "version": 3
   },
   "file_extension": ".py",
   "mimetype": "text/x-python",
   "name": "python",
   "nbconvert_exporter": "python",
   "pygments_lexer": "ipython3",
   "version": "3.7.6"
  }
 },
 "nbformat": 4,
 "nbformat_minor": 4
}
